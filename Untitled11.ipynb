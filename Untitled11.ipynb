{
 "cells": [
  {
   "cell_type": "code",
   "execution_count": 1,
   "id": "24c4939f",
   "metadata": {},
   "outputs": [],
   "source": [
    "from scipy import io\n",
    "import random\n",
    "import numpy as np\n",
    "import pandas as pd\n",
    "import matplotlib.pyplot as plt"
   ]
  },
  {
   "cell_type": "code",
   "execution_count": 3,
   "id": "039e5576",
   "metadata": {},
   "outputs": [],
   "source": [
    "def kernel(x1,x2):\n",
    "    # dot product as kernel function\n",
    "    k12 = np.dot(x1.reshape(1,-1),x2.reshape(-1,1))\n",
    "    return k12"
   ]
  },
  {
   "cell_type": "code",
   "execution_count": 4,
   "id": "2c403934",
   "metadata": {},
   "outputs": [],
   "source": [
    "def calculate_E(alpha,y_train,X_train,b,x_i,y_i):\n",
    "    f_xi = 0\n",
    "    for j in range(len(alpha)):\n",
    "        xj = X_train[j,:]\n",
    "        xi = x_i\n",
    "        kji = kernel(xj,xi)\n",
    "        f_xi += alpha[j]*y_train[j]*kji\n",
    "    \n",
    "    f_xi += b \n",
    "    Ei = f_xi - y_i\n",
    "    return Ei"
   ]
  },
  {
   "cell_type": "code",
   "execution_count": 5,
   "id": "5103b6a7",
   "metadata": {},
   "outputs": [],
   "source": [
    "def calculate_LH(C,y_i,y_j,alpha_i,alpha_j):\n",
    "    if y_i != y_j:\n",
    "        L = max(0, alpha_j-alpha_i)\n",
    "        H = min(C, C+alpha_j-alpha_i)\n",
    "    else:\n",
    "        L = max(0, alpha_i+alpha_j-C)\n",
    "        H = min(C, alpha_i+alpha_j)\n",
    "        \n",
    "    return L,H"
   ]
  },
  {
   "cell_type": "code",
   "execution_count": 6,
   "id": "bfac2c2b",
   "metadata": {},
   "outputs": [],
   "source": [
    "def calculate_eita(x_i,x_j):\n",
    "    eita = 2*kernel(x_i,x_j)-kernel(x_i,x_i)-kernel(x_j,x_j)\n",
    "    return eita"
   ]
  },
  {
   "cell_type": "code",
   "execution_count": 7,
   "id": "13101a1b",
   "metadata": {},
   "outputs": [],
   "source": [
    "def calculate_a2(a2_old,Ei,Ej,eita,y_j,L,H):\n",
    "    a2_new = a2_old - y_j*(Ei-Ej)/eita\n",
    "    \n",
    "    if a2_new > H:\n",
    "        a2_new = H\n",
    "    elif a2_new < L:\n",
    "        a2_new = L\n",
    "    \n",
    "    return a2_new"
   ]
  },
  {
   "cell_type": "code",
   "execution_count": null,
   "id": "6ba031e5",
   "metadata": {},
   "outputs": [],
   "source": []
  },
  {
   "cell_type": "code",
   "execution_count": 384,
   "id": "ec03b511",
   "metadata": {},
   "outputs": [
    {
     "data": {
      "text/plain": [
       "array([[0., 0., 0., ..., 0., 0., 0.],\n",
       "       [0., 0., 0., ..., 0., 0., 0.],\n",
       "       [1., 0., 0., ..., 0., 1., 0.],\n",
       "       ...,\n",
       "       [0., 0., 0., ..., 0., 0., 0.],\n",
       "       [0., 0., 0., ..., 0., 1., 0.],\n",
       "       [0., 0., 0., ..., 0., 1., 0.]])"
      ]
     },
     "execution_count": 384,
     "metadata": {},
     "output_type": "execute_result"
    }
   ],
   "source": [
    "cd4_path = \"/Users/jialanma/Downloads/cd4_expression.mtx\"\n",
    "cd4_dat = io.mmread(cd4_path)\n",
    "cd4_arr = np.array(cd4_dat.todense())\n",
    "cd4_arr"
   ]
  },
  {
   "cell_type": "code",
   "execution_count": 385,
   "id": "163acf0e",
   "metadata": {},
   "outputs": [
    {
     "data": {
      "text/plain": [
       "array([[0., 0., 0., ..., 0., 0., 0.],\n",
       "       [0., 0., 0., ..., 0., 0., 0.],\n",
       "       [0., 0., 0., ..., 0., 0., 0.],\n",
       "       ...,\n",
       "       [0., 0., 0., ..., 0., 0., 0.],\n",
       "       [0., 0., 0., ..., 0., 0., 0.],\n",
       "       [0., 0., 0., ..., 0., 1., 0.]])"
      ]
     },
     "execution_count": 385,
     "metadata": {},
     "output_type": "execute_result"
    }
   ],
   "source": [
    "cd8_path = \"/Users/jialanma/Downloads/cd8_expression.mtx\"\n",
    "cd8_dat = io.mmread(cd8_path)\n",
    "cd8_arr = np.array(cd8_dat.todense())\n",
    "cd8_arr"
   ]
  },
  {
   "cell_type": "code",
   "execution_count": 386,
   "id": "1b2fb5ca",
   "metadata": {},
   "outputs": [],
   "source": [
    "cd4_genes = pd.read_csv(\"/Users/jialanma/Downloads/CD4_gene_names.txt\",header=None)\n",
    "cd8_genes = pd.read_csv(\"/Users/jialanma/Downloads/CD8_gene_names.txt\",header=None)"
   ]
  },
  {
   "cell_type": "code",
   "execution_count": 387,
   "id": "def17235",
   "metadata": {},
   "outputs": [],
   "source": [
    "cd4_genes = np.array(cd4_genes)\n",
    "cd8_genes = np.array(cd8_genes)"
   ]
  },
  {
   "cell_type": "code",
   "execution_count": 388,
   "id": "49d02342",
   "metadata": {},
   "outputs": [],
   "source": [
    "intersect, cd4, cd8 = np.intersect1d(cd4_genes,cd8_genes, return_indices=True)"
   ]
  },
  {
   "cell_type": "code",
   "execution_count": 389,
   "id": "688855f5",
   "metadata": {},
   "outputs": [],
   "source": [
    "cd4_filtered = cd4_arr[:,cd4]"
   ]
  },
  {
   "cell_type": "code",
   "execution_count": 390,
   "id": "ad9888ee",
   "metadata": {},
   "outputs": [],
   "source": [
    "cd8_filtered = cd8_arr[:,cd8]"
   ]
  },
  {
   "cell_type": "code",
   "execution_count": 391,
   "id": "b1818669",
   "metadata": {},
   "outputs": [
    {
     "data": {
      "text/plain": [
       "(11213, 12069)"
      ]
     },
     "execution_count": 391,
     "metadata": {},
     "output_type": "execute_result"
    }
   ],
   "source": [
    "cd4_filtered.shape"
   ]
  },
  {
   "cell_type": "code",
   "execution_count": 585,
   "id": "d80f86b6",
   "metadata": {},
   "outputs": [
    {
     "data": {
      "text/plain": [
       "(3000, 12069)"
      ]
     },
     "execution_count": 585,
     "metadata": {},
     "output_type": "execute_result"
    }
   ],
   "source": [
    "X_train = np.vstack([cd4_filtered[:1500,:],cd8_filtered[:1500,:]])\n",
    "X_train.shape"
   ]
  },
  {
   "cell_type": "code",
   "execution_count": 586,
   "id": "7492732b",
   "metadata": {},
   "outputs": [],
   "source": [
    "m_train = X_train.shape[0]"
   ]
  },
  {
   "cell_type": "code",
   "execution_count": 587,
   "id": "6a437e4c",
   "metadata": {},
   "outputs": [
    {
     "data": {
      "text/plain": [
       "(3000,)"
      ]
     },
     "execution_count": 587,
     "metadata": {},
     "output_type": "execute_result"
    }
   ],
   "source": [
    "y_train = np.hstack([np.ones(1500),np.zeros(1500)])\n",
    "y_train.shape"
   ]
  },
  {
   "cell_type": "code",
   "execution_count": 588,
   "id": "13ac4287",
   "metadata": {},
   "outputs": [
    {
     "data": {
      "text/plain": [
       "array([1., 1., 1., ..., 0., 0., 0.])"
      ]
     },
     "execution_count": 588,
     "metadata": {},
     "output_type": "execute_result"
    }
   ],
   "source": [
    "y_train"
   ]
  },
  {
   "cell_type": "code",
   "execution_count": 554,
   "id": "62d51cb9",
   "metadata": {},
   "outputs": [
    {
     "data": {
      "text/plain": [
       "(11422, 12069)"
      ]
     },
     "execution_count": 554,
     "metadata": {},
     "output_type": "execute_result"
    }
   ],
   "source": [
    "X_test = np.vstack([cd4_filtered[5000:,:],cd8_filtered[5000:,:]])\n",
    "X_test.shape"
   ]
  },
  {
   "cell_type": "code",
   "execution_count": 555,
   "id": "fd0137b7",
   "metadata": {},
   "outputs": [
    {
     "data": {
      "text/plain": [
       "(2000,)"
      ]
     },
     "execution_count": 555,
     "metadata": {},
     "output_type": "execute_result"
    }
   ],
   "source": [
    "y_test = np.hstack([np.ones(1000),np.zeros(1000)])\n",
    "y_test.shape"
   ]
  },
  {
   "cell_type": "code",
   "execution_count": 556,
   "id": "9e181843",
   "metadata": {},
   "outputs": [
    {
     "data": {
      "text/plain": [
       "(11422,)"
      ]
     },
     "execution_count": 556,
     "metadata": {},
     "output_type": "execute_result"
    }
   ],
   "source": [
    "y_test = np.hstack([np.ones(cd4_filtered.shape[0]-5000),np.zeros(cd8_filtered.shape[0]-5000)])\n",
    "y_test.shape"
   ]
  },
  {
   "cell_type": "code",
   "execution_count": 589,
   "id": "8d142753",
   "metadata": {},
   "outputs": [
    {
     "data": {
      "text/plain": [
       "(14422, 12069)"
      ]
     },
     "execution_count": 589,
     "metadata": {},
     "output_type": "execute_result"
    }
   ],
   "source": [
    "X = np.vstack([X_train,X_test])\n",
    "X.shape"
   ]
  },
  {
   "cell_type": "code",
   "execution_count": 488,
   "id": "722582ec",
   "metadata": {},
   "outputs": [
    {
     "data": {
      "text/plain": [
       "6213"
      ]
     },
     "execution_count": 488,
     "metadata": {},
     "output_type": "execute_result"
    }
   ],
   "source": [
    "cd4_filtered.shape[0]-5000"
   ]
  },
  {
   "cell_type": "code",
   "execution_count": 489,
   "id": "0a92e2a7",
   "metadata": {},
   "outputs": [
    {
     "data": {
      "text/plain": [
       "5209"
      ]
     },
     "execution_count": 489,
     "metadata": {},
     "output_type": "execute_result"
    }
   ],
   "source": [
    "cd8_filtered.shape[0]-5000"
   ]
  },
  {
   "cell_type": "code",
   "execution_count": null,
   "id": "ce93d0fb",
   "metadata": {},
   "outputs": [],
   "source": []
  },
  {
   "cell_type": "code",
   "execution_count": 8,
   "id": "12c9a14c",
   "metadata": {
    "scrolled": true
   },
   "outputs": [
    {
     "data": {
      "text/html": [
       "<div>\n",
       "<style scoped>\n",
       "    .dataframe tbody tr th:only-of-type {\n",
       "        vertical-align: middle;\n",
       "    }\n",
       "\n",
       "    .dataframe tbody tr th {\n",
       "        vertical-align: top;\n",
       "    }\n",
       "\n",
       "    .dataframe thead th {\n",
       "        text-align: right;\n",
       "    }\n",
       "</style>\n",
       "<table border=\"1\" class=\"dataframe\">\n",
       "  <thead>\n",
       "    <tr style=\"text-align: right;\">\n",
       "      <th></th>\n",
       "      <th>id</th>\n",
       "      <th>diagnosis</th>\n",
       "      <th>radius_mean</th>\n",
       "      <th>texture_mean</th>\n",
       "      <th>perimeter_mean</th>\n",
       "      <th>area_mean</th>\n",
       "      <th>smoothness_mean</th>\n",
       "      <th>compactness_mean</th>\n",
       "      <th>concavity_mean</th>\n",
       "      <th>concave points_mean</th>\n",
       "      <th>...</th>\n",
       "      <th>texture_worst</th>\n",
       "      <th>perimeter_worst</th>\n",
       "      <th>area_worst</th>\n",
       "      <th>smoothness_worst</th>\n",
       "      <th>compactness_worst</th>\n",
       "      <th>concavity_worst</th>\n",
       "      <th>concave points_worst</th>\n",
       "      <th>symmetry_worst</th>\n",
       "      <th>fractal_dimension_worst</th>\n",
       "      <th>Unnamed: 32</th>\n",
       "    </tr>\n",
       "  </thead>\n",
       "  <tbody>\n",
       "    <tr>\n",
       "      <th>0</th>\n",
       "      <td>842302</td>\n",
       "      <td>M</td>\n",
       "      <td>17.99</td>\n",
       "      <td>10.38</td>\n",
       "      <td>122.80</td>\n",
       "      <td>1001.0</td>\n",
       "      <td>0.11840</td>\n",
       "      <td>0.27760</td>\n",
       "      <td>0.30010</td>\n",
       "      <td>0.14710</td>\n",
       "      <td>...</td>\n",
       "      <td>17.33</td>\n",
       "      <td>184.60</td>\n",
       "      <td>2019.0</td>\n",
       "      <td>0.16220</td>\n",
       "      <td>0.66560</td>\n",
       "      <td>0.7119</td>\n",
       "      <td>0.2654</td>\n",
       "      <td>0.4601</td>\n",
       "      <td>0.11890</td>\n",
       "      <td>NaN</td>\n",
       "    </tr>\n",
       "    <tr>\n",
       "      <th>1</th>\n",
       "      <td>842517</td>\n",
       "      <td>M</td>\n",
       "      <td>20.57</td>\n",
       "      <td>17.77</td>\n",
       "      <td>132.90</td>\n",
       "      <td>1326.0</td>\n",
       "      <td>0.08474</td>\n",
       "      <td>0.07864</td>\n",
       "      <td>0.08690</td>\n",
       "      <td>0.07017</td>\n",
       "      <td>...</td>\n",
       "      <td>23.41</td>\n",
       "      <td>158.80</td>\n",
       "      <td>1956.0</td>\n",
       "      <td>0.12380</td>\n",
       "      <td>0.18660</td>\n",
       "      <td>0.2416</td>\n",
       "      <td>0.1860</td>\n",
       "      <td>0.2750</td>\n",
       "      <td>0.08902</td>\n",
       "      <td>NaN</td>\n",
       "    </tr>\n",
       "    <tr>\n",
       "      <th>2</th>\n",
       "      <td>84300903</td>\n",
       "      <td>M</td>\n",
       "      <td>19.69</td>\n",
       "      <td>21.25</td>\n",
       "      <td>130.00</td>\n",
       "      <td>1203.0</td>\n",
       "      <td>0.10960</td>\n",
       "      <td>0.15990</td>\n",
       "      <td>0.19740</td>\n",
       "      <td>0.12790</td>\n",
       "      <td>...</td>\n",
       "      <td>25.53</td>\n",
       "      <td>152.50</td>\n",
       "      <td>1709.0</td>\n",
       "      <td>0.14440</td>\n",
       "      <td>0.42450</td>\n",
       "      <td>0.4504</td>\n",
       "      <td>0.2430</td>\n",
       "      <td>0.3613</td>\n",
       "      <td>0.08758</td>\n",
       "      <td>NaN</td>\n",
       "    </tr>\n",
       "    <tr>\n",
       "      <th>3</th>\n",
       "      <td>84348301</td>\n",
       "      <td>M</td>\n",
       "      <td>11.42</td>\n",
       "      <td>20.38</td>\n",
       "      <td>77.58</td>\n",
       "      <td>386.1</td>\n",
       "      <td>0.14250</td>\n",
       "      <td>0.28390</td>\n",
       "      <td>0.24140</td>\n",
       "      <td>0.10520</td>\n",
       "      <td>...</td>\n",
       "      <td>26.50</td>\n",
       "      <td>98.87</td>\n",
       "      <td>567.7</td>\n",
       "      <td>0.20980</td>\n",
       "      <td>0.86630</td>\n",
       "      <td>0.6869</td>\n",
       "      <td>0.2575</td>\n",
       "      <td>0.6638</td>\n",
       "      <td>0.17300</td>\n",
       "      <td>NaN</td>\n",
       "    </tr>\n",
       "    <tr>\n",
       "      <th>4</th>\n",
       "      <td>84358402</td>\n",
       "      <td>M</td>\n",
       "      <td>20.29</td>\n",
       "      <td>14.34</td>\n",
       "      <td>135.10</td>\n",
       "      <td>1297.0</td>\n",
       "      <td>0.10030</td>\n",
       "      <td>0.13280</td>\n",
       "      <td>0.19800</td>\n",
       "      <td>0.10430</td>\n",
       "      <td>...</td>\n",
       "      <td>16.67</td>\n",
       "      <td>152.20</td>\n",
       "      <td>1575.0</td>\n",
       "      <td>0.13740</td>\n",
       "      <td>0.20500</td>\n",
       "      <td>0.4000</td>\n",
       "      <td>0.1625</td>\n",
       "      <td>0.2364</td>\n",
       "      <td>0.07678</td>\n",
       "      <td>NaN</td>\n",
       "    </tr>\n",
       "    <tr>\n",
       "      <th>...</th>\n",
       "      <td>...</td>\n",
       "      <td>...</td>\n",
       "      <td>...</td>\n",
       "      <td>...</td>\n",
       "      <td>...</td>\n",
       "      <td>...</td>\n",
       "      <td>...</td>\n",
       "      <td>...</td>\n",
       "      <td>...</td>\n",
       "      <td>...</td>\n",
       "      <td>...</td>\n",
       "      <td>...</td>\n",
       "      <td>...</td>\n",
       "      <td>...</td>\n",
       "      <td>...</td>\n",
       "      <td>...</td>\n",
       "      <td>...</td>\n",
       "      <td>...</td>\n",
       "      <td>...</td>\n",
       "      <td>...</td>\n",
       "      <td>...</td>\n",
       "    </tr>\n",
       "    <tr>\n",
       "      <th>564</th>\n",
       "      <td>926424</td>\n",
       "      <td>M</td>\n",
       "      <td>21.56</td>\n",
       "      <td>22.39</td>\n",
       "      <td>142.00</td>\n",
       "      <td>1479.0</td>\n",
       "      <td>0.11100</td>\n",
       "      <td>0.11590</td>\n",
       "      <td>0.24390</td>\n",
       "      <td>0.13890</td>\n",
       "      <td>...</td>\n",
       "      <td>26.40</td>\n",
       "      <td>166.10</td>\n",
       "      <td>2027.0</td>\n",
       "      <td>0.14100</td>\n",
       "      <td>0.21130</td>\n",
       "      <td>0.4107</td>\n",
       "      <td>0.2216</td>\n",
       "      <td>0.2060</td>\n",
       "      <td>0.07115</td>\n",
       "      <td>NaN</td>\n",
       "    </tr>\n",
       "    <tr>\n",
       "      <th>565</th>\n",
       "      <td>926682</td>\n",
       "      <td>M</td>\n",
       "      <td>20.13</td>\n",
       "      <td>28.25</td>\n",
       "      <td>131.20</td>\n",
       "      <td>1261.0</td>\n",
       "      <td>0.09780</td>\n",
       "      <td>0.10340</td>\n",
       "      <td>0.14400</td>\n",
       "      <td>0.09791</td>\n",
       "      <td>...</td>\n",
       "      <td>38.25</td>\n",
       "      <td>155.00</td>\n",
       "      <td>1731.0</td>\n",
       "      <td>0.11660</td>\n",
       "      <td>0.19220</td>\n",
       "      <td>0.3215</td>\n",
       "      <td>0.1628</td>\n",
       "      <td>0.2572</td>\n",
       "      <td>0.06637</td>\n",
       "      <td>NaN</td>\n",
       "    </tr>\n",
       "    <tr>\n",
       "      <th>566</th>\n",
       "      <td>926954</td>\n",
       "      <td>M</td>\n",
       "      <td>16.60</td>\n",
       "      <td>28.08</td>\n",
       "      <td>108.30</td>\n",
       "      <td>858.1</td>\n",
       "      <td>0.08455</td>\n",
       "      <td>0.10230</td>\n",
       "      <td>0.09251</td>\n",
       "      <td>0.05302</td>\n",
       "      <td>...</td>\n",
       "      <td>34.12</td>\n",
       "      <td>126.70</td>\n",
       "      <td>1124.0</td>\n",
       "      <td>0.11390</td>\n",
       "      <td>0.30940</td>\n",
       "      <td>0.3403</td>\n",
       "      <td>0.1418</td>\n",
       "      <td>0.2218</td>\n",
       "      <td>0.07820</td>\n",
       "      <td>NaN</td>\n",
       "    </tr>\n",
       "    <tr>\n",
       "      <th>567</th>\n",
       "      <td>927241</td>\n",
       "      <td>M</td>\n",
       "      <td>20.60</td>\n",
       "      <td>29.33</td>\n",
       "      <td>140.10</td>\n",
       "      <td>1265.0</td>\n",
       "      <td>0.11780</td>\n",
       "      <td>0.27700</td>\n",
       "      <td>0.35140</td>\n",
       "      <td>0.15200</td>\n",
       "      <td>...</td>\n",
       "      <td>39.42</td>\n",
       "      <td>184.60</td>\n",
       "      <td>1821.0</td>\n",
       "      <td>0.16500</td>\n",
       "      <td>0.86810</td>\n",
       "      <td>0.9387</td>\n",
       "      <td>0.2650</td>\n",
       "      <td>0.4087</td>\n",
       "      <td>0.12400</td>\n",
       "      <td>NaN</td>\n",
       "    </tr>\n",
       "    <tr>\n",
       "      <th>568</th>\n",
       "      <td>92751</td>\n",
       "      <td>B</td>\n",
       "      <td>7.76</td>\n",
       "      <td>24.54</td>\n",
       "      <td>47.92</td>\n",
       "      <td>181.0</td>\n",
       "      <td>0.05263</td>\n",
       "      <td>0.04362</td>\n",
       "      <td>0.00000</td>\n",
       "      <td>0.00000</td>\n",
       "      <td>...</td>\n",
       "      <td>30.37</td>\n",
       "      <td>59.16</td>\n",
       "      <td>268.6</td>\n",
       "      <td>0.08996</td>\n",
       "      <td>0.06444</td>\n",
       "      <td>0.0000</td>\n",
       "      <td>0.0000</td>\n",
       "      <td>0.2871</td>\n",
       "      <td>0.07039</td>\n",
       "      <td>NaN</td>\n",
       "    </tr>\n",
       "  </tbody>\n",
       "</table>\n",
       "<p>569 rows × 33 columns</p>\n",
       "</div>"
      ],
      "text/plain": [
       "           id diagnosis  radius_mean  texture_mean  perimeter_mean  area_mean  \\\n",
       "0      842302         M        17.99         10.38          122.80     1001.0   \n",
       "1      842517         M        20.57         17.77          132.90     1326.0   \n",
       "2    84300903         M        19.69         21.25          130.00     1203.0   \n",
       "3    84348301         M        11.42         20.38           77.58      386.1   \n",
       "4    84358402         M        20.29         14.34          135.10     1297.0   \n",
       "..        ...       ...          ...           ...             ...        ...   \n",
       "564    926424         M        21.56         22.39          142.00     1479.0   \n",
       "565    926682         M        20.13         28.25          131.20     1261.0   \n",
       "566    926954         M        16.60         28.08          108.30      858.1   \n",
       "567    927241         M        20.60         29.33          140.10     1265.0   \n",
       "568     92751         B         7.76         24.54           47.92      181.0   \n",
       "\n",
       "     smoothness_mean  compactness_mean  concavity_mean  concave points_mean  \\\n",
       "0            0.11840           0.27760         0.30010              0.14710   \n",
       "1            0.08474           0.07864         0.08690              0.07017   \n",
       "2            0.10960           0.15990         0.19740              0.12790   \n",
       "3            0.14250           0.28390         0.24140              0.10520   \n",
       "4            0.10030           0.13280         0.19800              0.10430   \n",
       "..               ...               ...             ...                  ...   \n",
       "564          0.11100           0.11590         0.24390              0.13890   \n",
       "565          0.09780           0.10340         0.14400              0.09791   \n",
       "566          0.08455           0.10230         0.09251              0.05302   \n",
       "567          0.11780           0.27700         0.35140              0.15200   \n",
       "568          0.05263           0.04362         0.00000              0.00000   \n",
       "\n",
       "     ...  texture_worst  perimeter_worst  area_worst  smoothness_worst  \\\n",
       "0    ...          17.33           184.60      2019.0           0.16220   \n",
       "1    ...          23.41           158.80      1956.0           0.12380   \n",
       "2    ...          25.53           152.50      1709.0           0.14440   \n",
       "3    ...          26.50            98.87       567.7           0.20980   \n",
       "4    ...          16.67           152.20      1575.0           0.13740   \n",
       "..   ...            ...              ...         ...               ...   \n",
       "564  ...          26.40           166.10      2027.0           0.14100   \n",
       "565  ...          38.25           155.00      1731.0           0.11660   \n",
       "566  ...          34.12           126.70      1124.0           0.11390   \n",
       "567  ...          39.42           184.60      1821.0           0.16500   \n",
       "568  ...          30.37            59.16       268.6           0.08996   \n",
       "\n",
       "     compactness_worst  concavity_worst  concave points_worst  symmetry_worst  \\\n",
       "0              0.66560           0.7119                0.2654          0.4601   \n",
       "1              0.18660           0.2416                0.1860          0.2750   \n",
       "2              0.42450           0.4504                0.2430          0.3613   \n",
       "3              0.86630           0.6869                0.2575          0.6638   \n",
       "4              0.20500           0.4000                0.1625          0.2364   \n",
       "..                 ...              ...                   ...             ...   \n",
       "564            0.21130           0.4107                0.2216          0.2060   \n",
       "565            0.19220           0.3215                0.1628          0.2572   \n",
       "566            0.30940           0.3403                0.1418          0.2218   \n",
       "567            0.86810           0.9387                0.2650          0.4087   \n",
       "568            0.06444           0.0000                0.0000          0.2871   \n",
       "\n",
       "     fractal_dimension_worst  Unnamed: 32  \n",
       "0                    0.11890          NaN  \n",
       "1                    0.08902          NaN  \n",
       "2                    0.08758          NaN  \n",
       "3                    0.17300          NaN  \n",
       "4                    0.07678          NaN  \n",
       "..                       ...          ...  \n",
       "564                  0.07115          NaN  \n",
       "565                  0.06637          NaN  \n",
       "566                  0.07820          NaN  \n",
       "567                  0.12400          NaN  \n",
       "568                  0.07039          NaN  \n",
       "\n",
       "[569 rows x 33 columns]"
      ]
     },
     "execution_count": 8,
     "metadata": {},
     "output_type": "execute_result"
    }
   ],
   "source": [
    "cancer_dat = pd.read_csv(\"/Users/jialanma/Downloads/cancer.csv\")\n",
    "cancer_dat"
   ]
  },
  {
   "cell_type": "code",
   "execution_count": 9,
   "id": "4662afc3",
   "metadata": {},
   "outputs": [],
   "source": [
    "X_cancer = np.array(cancer_dat.iloc[:,2:-1])\n",
    "diagnosis = np.array(cancer_dat.iloc[:,1])"
   ]
  },
  {
   "cell_type": "code",
   "execution_count": 10,
   "id": "2f73e75a",
   "metadata": {},
   "outputs": [],
   "source": [
    "m,n = X_cancer.shape"
   ]
  },
  {
   "cell_type": "code",
   "execution_count": 11,
   "id": "177d02cf",
   "metadata": {},
   "outputs": [],
   "source": [
    "y_cancer = np.zeros(m)\n",
    "for i in range(m):\n",
    "    if diagnosis[i] == \"M\":\n",
    "        y_cancer[i] = 1\n",
    "    else:\n",
    "        y_cancer[i] = -1"
   ]
  },
  {
   "cell_type": "code",
   "execution_count": 12,
   "id": "370ba06e",
   "metadata": {},
   "outputs": [],
   "source": [
    "# Split data for training and testing\n",
    "X_train_cancer, X_test_cancer = X_cancer[:300],X_cancer[300:]\n",
    "y_train_cancer, y_test_cancer = y_cancer[:300],y_cancer[300:]"
   ]
  },
  {
   "cell_type": "code",
   "execution_count": 13,
   "id": "3363cdd1",
   "metadata": {},
   "outputs": [],
   "source": [
    "# Split data for training and testing\n",
    "X_train, X_test = X_cancer[:300],X_cancer[300:]\n",
    "y_train, y_test = y_cancer[:300],y_cancer[300:]"
   ]
  },
  {
   "cell_type": "code",
   "execution_count": 14,
   "id": "d2e330a0",
   "metadata": {},
   "outputs": [
    {
     "data": {
      "text/plain": [
       "(300, 30)"
      ]
     },
     "execution_count": 14,
     "metadata": {},
     "output_type": "execute_result"
    }
   ],
   "source": [
    "X_train_cancer.shape"
   ]
  },
  {
   "cell_type": "code",
   "execution_count": 15,
   "id": "ce2b90ad",
   "metadata": {},
   "outputs": [
    {
     "data": {
      "text/plain": [
       "(300, 30)"
      ]
     },
     "execution_count": 15,
     "metadata": {},
     "output_type": "execute_result"
    }
   ],
   "source": [
    "X_train.shape"
   ]
  },
  {
   "cell_type": "code",
   "execution_count": 16,
   "id": "f566e804",
   "metadata": {},
   "outputs": [
    {
     "data": {
      "text/plain": [
       "(300,)"
      ]
     },
     "execution_count": 16,
     "metadata": {},
     "output_type": "execute_result"
    }
   ],
   "source": [
    "y_train_cancer.shape"
   ]
  },
  {
   "cell_type": "code",
   "execution_count": 17,
   "id": "11c4d997",
   "metadata": {},
   "outputs": [
    {
     "data": {
      "text/plain": [
       "(300,)"
      ]
     },
     "execution_count": 17,
     "metadata": {},
     "output_type": "execute_result"
    }
   ],
   "source": [
    "y_train.shape"
   ]
  },
  {
   "cell_type": "code",
   "execution_count": null,
   "id": "efd0bd09",
   "metadata": {},
   "outputs": [],
   "source": []
  },
  {
   "cell_type": "code",
   "execution_count": null,
   "id": "6e65cf3f",
   "metadata": {},
   "outputs": [],
   "source": []
  },
  {
   "cell_type": "code",
   "execution_count": null,
   "id": "530a992e",
   "metadata": {},
   "outputs": [],
   "source": []
  },
  {
   "cell_type": "code",
   "execution_count": 2,
   "id": "7338122f",
   "metadata": {},
   "outputs": [],
   "source": [
    "parkinson_dat = pd.read_csv(\"/Users/jialanma/Downloads/pd_speech_features.csv\")\n",
    "new_header = parkinson_dat.iloc[0] \n",
    "parkinson_dat.columns = new_header "
   ]
  },
  {
   "cell_type": "code",
   "execution_count": 3,
   "id": "c2da93a0",
   "metadata": {},
   "outputs": [
    {
     "data": {
      "text/html": [
       "<div>\n",
       "<style scoped>\n",
       "    .dataframe tbody tr th:only-of-type {\n",
       "        vertical-align: middle;\n",
       "    }\n",
       "\n",
       "    .dataframe tbody tr th {\n",
       "        vertical-align: top;\n",
       "    }\n",
       "\n",
       "    .dataframe thead th {\n",
       "        text-align: right;\n",
       "    }\n",
       "</style>\n",
       "<table border=\"1\" class=\"dataframe\">\n",
       "  <thead>\n",
       "    <tr style=\"text-align: right;\">\n",
       "      <th></th>\n",
       "      <th>id</th>\n",
       "      <th>gender</th>\n",
       "      <th>PPE</th>\n",
       "      <th>DFA</th>\n",
       "      <th>RPDE</th>\n",
       "      <th>numPulses</th>\n",
       "      <th>numPeriodsPulses</th>\n",
       "      <th>meanPeriodPulses</th>\n",
       "      <th>stdDevPeriodPulses</th>\n",
       "      <th>locPctJitter</th>\n",
       "      <th>...</th>\n",
       "      <th>tqwt_kurtosisValue_dec_28</th>\n",
       "      <th>tqwt_kurtosisValue_dec_29</th>\n",
       "      <th>tqwt_kurtosisValue_dec_30</th>\n",
       "      <th>tqwt_kurtosisValue_dec_31</th>\n",
       "      <th>tqwt_kurtosisValue_dec_32</th>\n",
       "      <th>tqwt_kurtosisValue_dec_33</th>\n",
       "      <th>tqwt_kurtosisValue_dec_34</th>\n",
       "      <th>tqwt_kurtosisValue_dec_35</th>\n",
       "      <th>tqwt_kurtosisValue_dec_36</th>\n",
       "      <th>class</th>\n",
       "    </tr>\n",
       "  </thead>\n",
       "  <tbody>\n",
       "    <tr>\n",
       "      <th>1</th>\n",
       "      <td>0</td>\n",
       "      <td>1</td>\n",
       "      <td>0.85247</td>\n",
       "      <td>0.71826</td>\n",
       "      <td>0.57227</td>\n",
       "      <td>240</td>\n",
       "      <td>239</td>\n",
       "      <td>0.00806353</td>\n",
       "      <td>8.68E-05</td>\n",
       "      <td>0.00218</td>\n",
       "      <td>...</td>\n",
       "      <td>1.562</td>\n",
       "      <td>2.6445</td>\n",
       "      <td>3.8686</td>\n",
       "      <td>4.2105</td>\n",
       "      <td>5.1221</td>\n",
       "      <td>4.4625</td>\n",
       "      <td>2.6202</td>\n",
       "      <td>3.0004</td>\n",
       "      <td>18.9405</td>\n",
       "      <td>1</td>\n",
       "    </tr>\n",
       "    <tr>\n",
       "      <th>2</th>\n",
       "      <td>0</td>\n",
       "      <td>1</td>\n",
       "      <td>0.76686</td>\n",
       "      <td>0.69481</td>\n",
       "      <td>0.53966</td>\n",
       "      <td>234</td>\n",
       "      <td>233</td>\n",
       "      <td>0.008258256</td>\n",
       "      <td>7.31E-05</td>\n",
       "      <td>0.00195</td>\n",
       "      <td>...</td>\n",
       "      <td>1.5589</td>\n",
       "      <td>3.6107</td>\n",
       "      <td>23.5155</td>\n",
       "      <td>14.1962</td>\n",
       "      <td>11.0261</td>\n",
       "      <td>9.5082</td>\n",
       "      <td>6.5245</td>\n",
       "      <td>6.3431</td>\n",
       "      <td>45.178</td>\n",
       "      <td>1</td>\n",
       "    </tr>\n",
       "    <tr>\n",
       "      <th>3</th>\n",
       "      <td>0</td>\n",
       "      <td>1</td>\n",
       "      <td>0.85083</td>\n",
       "      <td>0.67604</td>\n",
       "      <td>0.58982</td>\n",
       "      <td>232</td>\n",
       "      <td>231</td>\n",
       "      <td>0.00833959</td>\n",
       "      <td>6.04E-05</td>\n",
       "      <td>0.00176</td>\n",
       "      <td>...</td>\n",
       "      <td>1.5643</td>\n",
       "      <td>2.3308</td>\n",
       "      <td>9.4959</td>\n",
       "      <td>10.7458</td>\n",
       "      <td>11.0177</td>\n",
       "      <td>4.8066</td>\n",
       "      <td>2.9199</td>\n",
       "      <td>3.1495</td>\n",
       "      <td>4.7666</td>\n",
       "      <td>1</td>\n",
       "    </tr>\n",
       "    <tr>\n",
       "      <th>4</th>\n",
       "      <td>1</td>\n",
       "      <td>0</td>\n",
       "      <td>0.41121</td>\n",
       "      <td>0.79672</td>\n",
       "      <td>0.59257</td>\n",
       "      <td>178</td>\n",
       "      <td>177</td>\n",
       "      <td>0.010857733</td>\n",
       "      <td>0.000182739</td>\n",
       "      <td>0.00419</td>\n",
       "      <td>...</td>\n",
       "      <td>3.7805</td>\n",
       "      <td>3.5664</td>\n",
       "      <td>5.2558</td>\n",
       "      <td>14.0403</td>\n",
       "      <td>4.2235</td>\n",
       "      <td>4.6857</td>\n",
       "      <td>4.846</td>\n",
       "      <td>6.265</td>\n",
       "      <td>4.0603</td>\n",
       "      <td>1</td>\n",
       "    </tr>\n",
       "    <tr>\n",
       "      <th>5</th>\n",
       "      <td>1</td>\n",
       "      <td>0</td>\n",
       "      <td>0.3279</td>\n",
       "      <td>0.79782</td>\n",
       "      <td>0.53028</td>\n",
       "      <td>236</td>\n",
       "      <td>235</td>\n",
       "      <td>0.008161574</td>\n",
       "      <td>0.002668863</td>\n",
       "      <td>0.00535</td>\n",
       "      <td>...</td>\n",
       "      <td>6.1727</td>\n",
       "      <td>5.8416</td>\n",
       "      <td>6.0805</td>\n",
       "      <td>5.7621</td>\n",
       "      <td>7.7817</td>\n",
       "      <td>11.6891</td>\n",
       "      <td>8.2103</td>\n",
       "      <td>5.0559</td>\n",
       "      <td>6.1164</td>\n",
       "      <td>1</td>\n",
       "    </tr>\n",
       "    <tr>\n",
       "      <th>...</th>\n",
       "      <td>...</td>\n",
       "      <td>...</td>\n",
       "      <td>...</td>\n",
       "      <td>...</td>\n",
       "      <td>...</td>\n",
       "      <td>...</td>\n",
       "      <td>...</td>\n",
       "      <td>...</td>\n",
       "      <td>...</td>\n",
       "      <td>...</td>\n",
       "      <td>...</td>\n",
       "      <td>...</td>\n",
       "      <td>...</td>\n",
       "      <td>...</td>\n",
       "      <td>...</td>\n",
       "      <td>...</td>\n",
       "      <td>...</td>\n",
       "      <td>...</td>\n",
       "      <td>...</td>\n",
       "      <td>...</td>\n",
       "      <td>...</td>\n",
       "    </tr>\n",
       "    <tr>\n",
       "      <th>752</th>\n",
       "      <td>250</td>\n",
       "      <td>0</td>\n",
       "      <td>0.80903</td>\n",
       "      <td>0.56355</td>\n",
       "      <td>0.28385</td>\n",
       "      <td>417</td>\n",
       "      <td>416</td>\n",
       "      <td>0.004626942</td>\n",
       "      <td>5.22E-05</td>\n",
       "      <td>0.00064</td>\n",
       "      <td>...</td>\n",
       "      <td>3.0706</td>\n",
       "      <td>3.019</td>\n",
       "      <td>3.1212</td>\n",
       "      <td>2.4921</td>\n",
       "      <td>3.5844</td>\n",
       "      <td>3.54</td>\n",
       "      <td>3.3805</td>\n",
       "      <td>3.2003</td>\n",
       "      <td>6.8671</td>\n",
       "      <td>0</td>\n",
       "    </tr>\n",
       "    <tr>\n",
       "      <th>753</th>\n",
       "      <td>250</td>\n",
       "      <td>0</td>\n",
       "      <td>0.16084</td>\n",
       "      <td>0.56499</td>\n",
       "      <td>0.59194</td>\n",
       "      <td>415</td>\n",
       "      <td>413</td>\n",
       "      <td>0.004549703</td>\n",
       "      <td>0.000219994</td>\n",
       "      <td>0.00143</td>\n",
       "      <td>...</td>\n",
       "      <td>1.9704</td>\n",
       "      <td>1.7451</td>\n",
       "      <td>1.8277</td>\n",
       "      <td>2.4976</td>\n",
       "      <td>5.2981</td>\n",
       "      <td>4.2616</td>\n",
       "      <td>6.3042</td>\n",
       "      <td>10.9058</td>\n",
       "      <td>28.417</td>\n",
       "      <td>0</td>\n",
       "    </tr>\n",
       "    <tr>\n",
       "      <th>754</th>\n",
       "      <td>251</td>\n",
       "      <td>0</td>\n",
       "      <td>0.88389</td>\n",
       "      <td>0.72335</td>\n",
       "      <td>0.46815</td>\n",
       "      <td>381</td>\n",
       "      <td>380</td>\n",
       "      <td>0.005069271</td>\n",
       "      <td>0.000102654</td>\n",
       "      <td>0.00076</td>\n",
       "      <td>...</td>\n",
       "      <td>51.5607</td>\n",
       "      <td>44.4641</td>\n",
       "      <td>26.1586</td>\n",
       "      <td>6.3076</td>\n",
       "      <td>2.8601</td>\n",
       "      <td>2.5361</td>\n",
       "      <td>3.5377</td>\n",
       "      <td>3.3545</td>\n",
       "      <td>5.0424</td>\n",
       "      <td>0</td>\n",
       "    </tr>\n",
       "    <tr>\n",
       "      <th>755</th>\n",
       "      <td>251</td>\n",
       "      <td>0</td>\n",
       "      <td>0.83782</td>\n",
       "      <td>0.7489</td>\n",
       "      <td>0.49823</td>\n",
       "      <td>340</td>\n",
       "      <td>339</td>\n",
       "      <td>0.005679019</td>\n",
       "      <td>5.51E-05</td>\n",
       "      <td>0.00092</td>\n",
       "      <td>...</td>\n",
       "      <td>19.1607</td>\n",
       "      <td>12.8312</td>\n",
       "      <td>8.9434</td>\n",
       "      <td>2.2044</td>\n",
       "      <td>1.9496</td>\n",
       "      <td>1.9664</td>\n",
       "      <td>2.6801</td>\n",
       "      <td>2.8332</td>\n",
       "      <td>3.7131</td>\n",
       "      <td>0</td>\n",
       "    </tr>\n",
       "    <tr>\n",
       "      <th>756</th>\n",
       "      <td>251</td>\n",
       "      <td>0</td>\n",
       "      <td>0.81304</td>\n",
       "      <td>0.76471</td>\n",
       "      <td>0.46374</td>\n",
       "      <td>340</td>\n",
       "      <td>339</td>\n",
       "      <td>0.005675776</td>\n",
       "      <td>3.71E-05</td>\n",
       "      <td>0.00078</td>\n",
       "      <td>...</td>\n",
       "      <td>62.9927</td>\n",
       "      <td>21.8152</td>\n",
       "      <td>9.2457</td>\n",
       "      <td>4.8555</td>\n",
       "      <td>3.0551</td>\n",
       "      <td>3.0415</td>\n",
       "      <td>4.0116</td>\n",
       "      <td>2.6217</td>\n",
       "      <td>3.1527</td>\n",
       "      <td>0</td>\n",
       "    </tr>\n",
       "  </tbody>\n",
       "</table>\n",
       "<p>756 rows × 755 columns</p>\n",
       "</div>"
      ],
      "text/plain": [
       "0     id gender      PPE      DFA     RPDE numPulses numPeriodsPulses  \\\n",
       "1      0      1  0.85247  0.71826  0.57227       240              239   \n",
       "2      0      1  0.76686  0.69481  0.53966       234              233   \n",
       "3      0      1  0.85083  0.67604  0.58982       232              231   \n",
       "4      1      0  0.41121  0.79672  0.59257       178              177   \n",
       "5      1      0   0.3279  0.79782  0.53028       236              235   \n",
       "..   ...    ...      ...      ...      ...       ...              ...   \n",
       "752  250      0  0.80903  0.56355  0.28385       417              416   \n",
       "753  250      0  0.16084  0.56499  0.59194       415              413   \n",
       "754  251      0  0.88389  0.72335  0.46815       381              380   \n",
       "755  251      0  0.83782   0.7489  0.49823       340              339   \n",
       "756  251      0  0.81304  0.76471  0.46374       340              339   \n",
       "\n",
       "0   meanPeriodPulses stdDevPeriodPulses locPctJitter  ...  \\\n",
       "1         0.00806353           8.68E-05      0.00218  ...   \n",
       "2        0.008258256           7.31E-05      0.00195  ...   \n",
       "3         0.00833959           6.04E-05      0.00176  ...   \n",
       "4        0.010857733        0.000182739      0.00419  ...   \n",
       "5        0.008161574        0.002668863      0.00535  ...   \n",
       "..               ...                ...          ...  ...   \n",
       "752      0.004626942           5.22E-05      0.00064  ...   \n",
       "753      0.004549703        0.000219994      0.00143  ...   \n",
       "754      0.005069271        0.000102654      0.00076  ...   \n",
       "755      0.005679019           5.51E-05      0.00092  ...   \n",
       "756      0.005675776           3.71E-05      0.00078  ...   \n",
       "\n",
       "0   tqwt_kurtosisValue_dec_28 tqwt_kurtosisValue_dec_29  \\\n",
       "1                       1.562                    2.6445   \n",
       "2                      1.5589                    3.6107   \n",
       "3                      1.5643                    2.3308   \n",
       "4                      3.7805                    3.5664   \n",
       "5                      6.1727                    5.8416   \n",
       "..                        ...                       ...   \n",
       "752                    3.0706                     3.019   \n",
       "753                    1.9704                    1.7451   \n",
       "754                   51.5607                   44.4641   \n",
       "755                   19.1607                   12.8312   \n",
       "756                   62.9927                   21.8152   \n",
       "\n",
       "0   tqwt_kurtosisValue_dec_30 tqwt_kurtosisValue_dec_31  \\\n",
       "1                      3.8686                    4.2105   \n",
       "2                     23.5155                   14.1962   \n",
       "3                      9.4959                   10.7458   \n",
       "4                      5.2558                   14.0403   \n",
       "5                      6.0805                    5.7621   \n",
       "..                        ...                       ...   \n",
       "752                    3.1212                    2.4921   \n",
       "753                    1.8277                    2.4976   \n",
       "754                   26.1586                    6.3076   \n",
       "755                    8.9434                    2.2044   \n",
       "756                    9.2457                    4.8555   \n",
       "\n",
       "0   tqwt_kurtosisValue_dec_32 tqwt_kurtosisValue_dec_33  \\\n",
       "1                      5.1221                    4.4625   \n",
       "2                     11.0261                    9.5082   \n",
       "3                     11.0177                    4.8066   \n",
       "4                      4.2235                    4.6857   \n",
       "5                      7.7817                   11.6891   \n",
       "..                        ...                       ...   \n",
       "752                    3.5844                      3.54   \n",
       "753                    5.2981                    4.2616   \n",
       "754                    2.8601                    2.5361   \n",
       "755                    1.9496                    1.9664   \n",
       "756                    3.0551                    3.0415   \n",
       "\n",
       "0   tqwt_kurtosisValue_dec_34 tqwt_kurtosisValue_dec_35  \\\n",
       "1                      2.6202                    3.0004   \n",
       "2                      6.5245                    6.3431   \n",
       "3                      2.9199                    3.1495   \n",
       "4                       4.846                     6.265   \n",
       "5                      8.2103                    5.0559   \n",
       "..                        ...                       ...   \n",
       "752                    3.3805                    3.2003   \n",
       "753                    6.3042                   10.9058   \n",
       "754                    3.5377                    3.3545   \n",
       "755                    2.6801                    2.8332   \n",
       "756                    4.0116                    2.6217   \n",
       "\n",
       "0   tqwt_kurtosisValue_dec_36 class  \n",
       "1                     18.9405     1  \n",
       "2                      45.178     1  \n",
       "3                      4.7666     1  \n",
       "4                      4.0603     1  \n",
       "5                      6.1164     1  \n",
       "..                        ...   ...  \n",
       "752                    6.8671     0  \n",
       "753                    28.417     0  \n",
       "754                    5.0424     0  \n",
       "755                    3.7131     0  \n",
       "756                    3.1527     0  \n",
       "\n",
       "[756 rows x 755 columns]"
      ]
     },
     "execution_count": 3,
     "metadata": {},
     "output_type": "execute_result"
    }
   ],
   "source": [
    "parkinson_dat = parkinson_dat.iloc[1:,:]\n",
    "parkinson_dat"
   ]
  },
  {
   "cell_type": "code",
   "execution_count": 332,
   "id": "4b0a40a5",
   "metadata": {},
   "outputs": [
    {
     "data": {
      "text/plain": [
       "(756, 752)"
      ]
     },
     "execution_count": 332,
     "metadata": {},
     "output_type": "execute_result"
    }
   ],
   "source": [
    "X = np.array(parkinson_dat.iloc[:,2:-1])\n",
    "for i in range(X.shape[0]):\n",
    "    for j in range(X.shape[1]):\n",
    "        X[i,j] = float(X[i,j])\n",
    "X = X.astype('float')\n",
    "X.shape"
   ]
  },
  {
   "cell_type": "code",
   "execution_count": 333,
   "id": "3e9dd8c9",
   "metadata": {},
   "outputs": [
    {
     "data": {
      "text/plain": [
       "(756,)"
      ]
     },
     "execution_count": 333,
     "metadata": {},
     "output_type": "execute_result"
    }
   ],
   "source": [
    "y = np.array(parkinson_dat.iloc[:,-1])\n",
    "for i in range(len(y)):\n",
    "    y[i] = int(y[i])\n",
    "y = y.astype('int')\n",
    "y.shape"
   ]
  },
  {
   "cell_type": "code",
   "execution_count": 334,
   "id": "c2f7adbf",
   "metadata": {},
   "outputs": [
    {
     "data": {
      "text/plain": [
       "((400, 752), (356, 752))"
      ]
     },
     "execution_count": 334,
     "metadata": {},
     "output_type": "execute_result"
    }
   ],
   "source": [
    "X_train, X_test = X[:400,:],X[400:,:]\n",
    "X_train.shape,X_test.shape"
   ]
  },
  {
   "cell_type": "code",
   "execution_count": 335,
   "id": "8f73dc09",
   "metadata": {
    "scrolled": true
   },
   "outputs": [
    {
     "data": {
      "text/plain": [
       "((400,), (356,))"
      ]
     },
     "execution_count": 335,
     "metadata": {},
     "output_type": "execute_result"
    }
   ],
   "source": [
    "y_train, y_test = y[:400],y[400:]\n",
    "y_train.shape,y_test.shape"
   ]
  },
  {
   "cell_type": "code",
   "execution_count": null,
   "id": "f88a8923",
   "metadata": {},
   "outputs": [],
   "source": []
  },
  {
   "cell_type": "code",
   "execution_count": 28,
   "id": "e0229d8c",
   "metadata": {},
   "outputs": [],
   "source": [
    "# Initialization: all alphas and b are zero\n",
    "alpha_old,alpha_new = np.zeros((X_train.shape[0],1)),np.zeros((X_train.shape[0],1))\n",
    "b = 0"
   ]
  },
  {
   "cell_type": "code",
   "execution_count": 29,
   "id": "024731b1",
   "metadata": {},
   "outputs": [],
   "source": [
    "C = 10 # regularization param\n",
    "epsilon = 1e-3 # numerical tolerance for KKT conditions\n",
    "max_passes = 1 # maximum numbe of passes to iterate over alpha's without changing"
   ]
  },
  {
   "cell_type": "code",
   "execution_count": 166,
   "id": "fc9d22aa",
   "metadata": {},
   "outputs": [],
   "source": [
    "class SMOModel:\n",
    "    \"\"\"Container object for the model used for sequential minimal optimization.\"\"\"\n",
    "    \n",
    "    def __init__(self, X, y, C, kernel, alphas, b, errors):\n",
    "        self.X = X               # training data vector\n",
    "        self.y = y               # class label vector\n",
    "        self.C = C               # regularization parameter\n",
    "        self.kernel = kernel     # kernel function\n",
    "        self.alphas = alphas     # lagrange multiplier vector\n",
    "        self.b = b               # scalar bias term\n",
    "        self.errors = errors     # error cache\n",
    "        self._obj = []           # record of objective function value\n",
    "        self.m = len(self.X)     # store size of training set\n"
   ]
  },
  {
   "cell_type": "code",
   "execution_count": 167,
   "id": "f5065a94",
   "metadata": {},
   "outputs": [],
   "source": [
    "def linear_kernel(x, y, b=1):\n",
    "    \"\"\"Returns the linear combination of arrays `x` and `y` with\n",
    "    the optional bias term `b` (set to 1 by default).\"\"\"\n",
    "    b = 0\n",
    "    return x @ y.T + b # Note the @ operator for matrix multiplication"
   ]
  },
  {
   "cell_type": "code",
   "execution_count": 168,
   "id": "1498bd6b",
   "metadata": {},
   "outputs": [],
   "source": [
    "def gaussian_kernel(x, y, sigma=1):\n",
    "    \"\"\"Returns the gaussian similarity of arrays `x` and `y` with\n",
    "    kernel width parameter `sigma` (set to 1 by default).\"\"\"\n",
    "    \n",
    "    if np.ndim(x) == 1 and np.ndim(y) == 1:\n",
    "        result = np.exp(- (np.linalg.norm(x - y, 2)) ** 2 / (2 * sigma ** 2))\n",
    "    elif (np.ndim(x) > 1 and np.ndim(y) == 1) or (np.ndim(x) == 1 and np.ndim(y) > 1):\n",
    "        result = np.exp(- (np.linalg.norm(x - y, 2, axis=1) ** 2) / (2 * sigma ** 2))\n",
    "    elif np.ndim(x) > 1 and np.ndim(y) > 1:\n",
    "        result = np.exp(- (np.linalg.norm(x[:, np.newaxis] - y[np.newaxis, :], 2, axis=2) ** 2) / (2 * sigma ** 2))\n",
    "    return result"
   ]
  },
  {
   "cell_type": "code",
   "execution_count": 169,
   "id": "e790f725",
   "metadata": {},
   "outputs": [],
   "source": [
    "def objective_function(alphas, target, kernel, X_train):\n",
    "    \"\"\"Returns the SVM objective function based in the input model defined by:\n",
    "    `alphas`: vector of Lagrange multipliers\n",
    "    `target`: vector of class labels (-1 or 1) for training data\n",
    "    `kernel`: kernel function\n",
    "    `X_train`: training data for model.\"\"\"\n",
    "    \n",
    "    return np.sum(alphas) - 0.5 * np.sum((target[:, None] * target[None, :]) * kernel(X_train, X_train) * (alphas[:, None] * alphas[None, :]))"
   ]
  },
  {
   "cell_type": "code",
   "execution_count": 170,
   "id": "b60f08eb",
   "metadata": {},
   "outputs": [],
   "source": [
    "def decision_function(alphas, target, kernel, X_train, x_test, b):\n",
    "    \"\"\"Applies the SVM decision function to the input feature vectors in `x_test`.\"\"\"\n",
    "    \n",
    "    result = (alphas * target) @ kernel(X_train, x_test) - b\n",
    "    return result"
   ]
  },
  {
   "cell_type": "code",
   "execution_count": 171,
   "id": "529c5fbf",
   "metadata": {},
   "outputs": [],
   "source": [
    "def take_step(i1, i2, model):\n",
    "    \n",
    "    # Skip if chosen alphas are the same\n",
    "    if i1 == i2:\n",
    "        return 0, model\n",
    "    \n",
    "    alph1 = model.alphas[i1]\n",
    "    alph2 = model.alphas[i2]\n",
    "    y1 = model.y[i1]\n",
    "    y2 = model.y[i2]\n",
    "    E1 = model.errors[i1]\n",
    "    E2 = model.errors[i2]\n",
    "    s = y1 * y2\n",
    "    \n",
    "    # Compute L & H, the bounds on new possible alpha values\n",
    "    if (y1 != y2):\n",
    "        L = max(0, alph2 - alph1)\n",
    "        H = min(model.C, model.C + alph2 - alph1)\n",
    "    elif (y1 == y2):\n",
    "        L = max(0, alph1 + alph2 - model.C)\n",
    "        H = min(model.C, alph1 + alph2)\n",
    "    if (L == H):\n",
    "        return 0, model\n",
    "\n",
    "    # Compute kernel & 2nd derivative eta\n",
    "    k11 = model.kernel(model.X[i1], model.X[i1])\n",
    "    k12 = model.kernel(model.X[i1], model.X[i2])\n",
    "    k22 = model.kernel(model.X[i2], model.X[i2])\n",
    "    eta = 2 * k12 - k11 - k22\n",
    "    \n",
    "    # Compute new alpha 2 (a2) if eta is negative\n",
    "    if (eta < 0):\n",
    "        a2 = alph2 - y2 * (E1 - E2) / eta\n",
    "        # Clip a2 based on bounds L & H\n",
    "        if L < a2 < H:\n",
    "            a2 = a2\n",
    "        elif (a2 <= L):\n",
    "            a2 = L\n",
    "        elif (a2 >= H):\n",
    "            a2 = H\n",
    "            \n",
    "    # If eta is non-negative, move new a2 to bound with greater objective function value\n",
    "    else:\n",
    "        alphas_adj = model.alphas.copy()\n",
    "        alphas_adj[i2] = L\n",
    "        # objective function output with a2 = L\n",
    "        Lobj = objective_function(alphas_adj, model.y, model.kernel, model.X) \n",
    "        alphas_adj[i2] = H\n",
    "        # objective function output with a2 = H\n",
    "        Hobj = objective_function(alphas_adj, model.y, model.kernel, model.X)\n",
    "        if Lobj > (Hobj + eps):\n",
    "            a2 = L\n",
    "        elif Lobj < (Hobj - eps):\n",
    "            a2 = H\n",
    "        else:\n",
    "            a2 = alph2\n",
    "            \n",
    "    # Push a2 to 0 or C if very close\n",
    "    if a2 < 1e-8:\n",
    "        a2 = 0.0\n",
    "    elif a2 > (model.C - 1e-8):\n",
    "        a2 = model.C\n",
    "    \n",
    "    # If examples can't be optimized within epsilon (eps), skip this pair\n",
    "    if (np.abs(a2 - alph2) < eps * (a2 + alph2 + eps)):\n",
    "        return 0, model\n",
    "    \n",
    "    # Calculate new alpha 1 (a1)\n",
    "    a1 = alph1 + s * (alph2 - a2)\n",
    "    \n",
    "    # Update threshold b to reflect newly calculated alphas\n",
    "    # Calculate both possible thresholds\n",
    "    b1 = E1 + y1 * (a1 - alph1) * k11 + y2 * (a2 - alph2) * k12 + model.b\n",
    "    b2 = E2 + y1 * (a1 - alph1) * k12 + y2 * (a2 - alph2) * k22 + model.b\n",
    "    \n",
    "    # Set new threshold based on if a1 or a2 is bound by L and/or H\n",
    "    if 0 < a1 and a1 < C:\n",
    "        b_new = b1\n",
    "    elif 0 < a2 and a2 < C:\n",
    "        b_new = b2\n",
    "    # Average thresholds if both are bound\n",
    "    else:\n",
    "        b_new = (b1 + b2) * 0.5\n",
    "\n",
    "    # Update model object with new alphas & threshold\n",
    "    model.alphas[i1] = a1\n",
    "    model.alphas[i2] = a2\n",
    "    \n",
    "    # Update error cache\n",
    "    # Error cache for optimized alphas is set to 0 if they're unbound\n",
    "    for index, alph in zip([i1, i2], [a1, a2]):\n",
    "        if 0.0 < alph < model.C:\n",
    "            model.errors[index] = 0.0\n",
    "    \n",
    "    # Set non-optimized errors based on equation 12.11 in Platt's book\n",
    "    non_opt = [n for n in range(model.m) if (n != i1 and n != i2)]\n",
    "    model.errors[non_opt] = model.errors[non_opt] + \\\n",
    "                            y1*(a1 - alph1)*model.kernel(model.X[i1], model.X[non_opt]) + \\\n",
    "                            y2*(a2 - alph2)*model.kernel(model.X[i2], model.X[non_opt]) + model.b - b_new\n",
    "    \n",
    "    # Update model threshold\n",
    "    model.b = b_new\n",
    "    \n",
    "    return 1, model"
   ]
  },
  {
   "cell_type": "code",
   "execution_count": 172,
   "id": "8114b583",
   "metadata": {},
   "outputs": [],
   "source": [
    "def examine_example(i2, model):\n",
    "    \n",
    "    y2 = model.y[i2]\n",
    "    alph2 = model.alphas[i2]\n",
    "    E2 = model.errors[i2]\n",
    "    r2 = E2 * y2\n",
    "\n",
    "    # Proceed if error is within specified tolerance (tol)\n",
    "    if ((r2 < -tol and alph2 < model.C) or (r2 > tol and alph2 > 0)):\n",
    "        \n",
    "        if len(model.alphas[(model.alphas != 0) & (model.alphas != model.C)]) > 1:\n",
    "            # Use 2nd choice heuristic is choose max difference in error\n",
    "            if model.errors[i2] > 0:\n",
    "                i1 = np.argmin(model.errors)\n",
    "            elif model.errors[i2] <= 0:\n",
    "                i1 = np.argmax(model.errors)\n",
    "            step_result, model = take_step(i1, i2, model)\n",
    "            if step_result:\n",
    "                return 1, model\n",
    "            \n",
    "        # Loop through non-zero and non-C alphas, starting at a random point\n",
    "        for i1 in np.roll(np.where((model.alphas != 0) & (model.alphas != model.C))[0],\n",
    "                          np.random.choice(np.arange(model.m))):\n",
    "            step_result, model = take_step(i1, i2, model)\n",
    "            if step_result:\n",
    "                return 1, model\n",
    "        \n",
    "        # loop through all alphas, starting at a random point\n",
    "        for i1 in np.roll(np.arange(model.m), np.random.choice(np.arange(model.m))):\n",
    "            step_result, model = take_step(i1, i2, model)\n",
    "            if step_result:\n",
    "                return 1, model\n",
    "    \n",
    "    return 0, model"
   ]
  },
  {
   "cell_type": "code",
   "execution_count": 173,
   "id": "0dbabdd0",
   "metadata": {},
   "outputs": [],
   "source": [
    "def train(model):\n",
    "    \n",
    "    numChanged = 0\n",
    "    examineAll = 1\n",
    "\n",
    "    while(numChanged > 0) or (examineAll):\n",
    "        numChanged = 0\n",
    "        if examineAll:\n",
    "            # loop over all training examples\n",
    "            for i in range(model.alphas.shape[0]):\n",
    "                examine_result, model = examine_example(i, model)\n",
    "                numChanged += examine_result\n",
    "                if examine_result:\n",
    "                    obj_result = objective_function(model.alphas, model.y, model.kernel, model.X)\n",
    "                    model._obj.append(obj_result)\n",
    "        else:\n",
    "            # loop over examples where alphas are not already at their limits\n",
    "            for i in np.where((model.alphas != 0) & (model.alphas != model.C))[0]:\n",
    "                examine_result, model = examine_example(i, model)\n",
    "                numChanged += examine_result\n",
    "                if examine_result:\n",
    "                    obj_result = objective_function(model.alphas, model.y, model.kernel, model.X)\n",
    "                    model._obj.append(obj_result)\n",
    "        if examineAll == 1:\n",
    "            examineAll = 0\n",
    "        elif numChanged == 0:\n",
    "            examineAll = 1\n",
    "        \n",
    "    return model"
   ]
  },
  {
   "cell_type": "code",
   "execution_count": 336,
   "id": "bd428560",
   "metadata": {},
   "outputs": [],
   "source": [
    "C = 10.0\n",
    "m = X_train.shape[0]\n",
    "initial_alphas = np.zeros(m)\n",
    "initial_b = 0.0\n",
    "\n",
    "# Set tolerances\n",
    "tol = 0.01 # error tolerance\n",
    "eps = 0.01 # alpha tolerance\n",
    "\n",
    "# Instantiate model\n",
    "model = SMOModel(X_train, y_train, C, linear_kernel,\n",
    "                 initial_alphas, initial_b, np.zeros(m))\n",
    "\n",
    "# Initialize error cache\n",
    "initial_error = decision_function(model.alphas, model.y, model.kernel,\n",
    "                                  model.X, model.X, model.b) - model.y\n",
    "model.errors = initial_error"
   ]
  },
  {
   "cell_type": "code",
   "execution_count": 598,
   "id": "e4f8d4df",
   "metadata": {},
   "outputs": [],
   "source": [
    "C = 10.0\n",
    "m = X_train_new.shape[0]\n",
    "initial_alphas = np.zeros(m)\n",
    "initial_b = 0.0\n",
    "\n",
    "# Set tolerances\n",
    "tol = 0.01 # error tolerance\n",
    "eps = 0.01 # alpha tolerance\n",
    "\n",
    "# Instantiate model\n",
    "model = SMOModel(X_train_new, y_train, C, linear_kernel,\n",
    "                 initial_alphas, initial_b, np.zeros(m))\n",
    "\n",
    "# Initialize error cache\n",
    "initial_error = decision_function(model.alphas, model.y, model.kernel,\n",
    "                                  model.X, model.X, model.b) - model.y\n",
    "model.errors = initial_error"
   ]
  },
  {
   "cell_type": "code",
   "execution_count": 599,
   "id": "f618d756",
   "metadata": {
    "scrolled": true
   },
   "outputs": [
    {
     "data": {
      "text/plain": [
       "(3000,)"
      ]
     },
     "execution_count": 599,
     "metadata": {},
     "output_type": "execute_result"
    }
   ],
   "source": [
    "initial_error.shape"
   ]
  },
  {
   "cell_type": "code",
   "execution_count": 600,
   "id": "2400feed",
   "metadata": {},
   "outputs": [
    {
     "data": {
      "text/plain": [
       "(3000, 100)"
      ]
     },
     "execution_count": 600,
     "metadata": {},
     "output_type": "execute_result"
    }
   ],
   "source": [
    "X_train_new.shape"
   ]
  },
  {
   "cell_type": "code",
   "execution_count": 601,
   "id": "c1d49d3a",
   "metadata": {},
   "outputs": [],
   "source": [
    "output = train(model)"
   ]
  },
  {
   "cell_type": "code",
   "execution_count": null,
   "id": "332bccc6",
   "metadata": {},
   "outputs": [],
   "source": []
  },
  {
   "cell_type": "code",
   "execution_count": null,
   "id": "59b3ddf7",
   "metadata": {},
   "outputs": [],
   "source": []
  },
  {
   "cell_type": "code",
   "execution_count": 570,
   "id": "32014cb1",
   "metadata": {},
   "outputs": [
    {
     "data": {
      "text/plain": [
       "1000"
      ]
     },
     "execution_count": 570,
     "metadata": {},
     "output_type": "execute_result"
    }
   ],
   "source": [
    "sum(output.alphas == 0)"
   ]
  },
  {
   "cell_type": "code",
   "execution_count": 571,
   "id": "d23c6e75",
   "metadata": {},
   "outputs": [
    {
     "data": {
      "text/plain": [
       "10000.0"
      ]
     },
     "execution_count": 571,
     "metadata": {},
     "output_type": "execute_result"
    }
   ],
   "source": [
    "output.alphas.sum()"
   ]
  },
  {
   "cell_type": "code",
   "execution_count": 572,
   "id": "db9b604d",
   "metadata": {},
   "outputs": [],
   "source": [
    "alpha_new = output.alphas"
   ]
  },
  {
   "cell_type": "code",
   "execution_count": 573,
   "id": "2eddc109",
   "metadata": {},
   "outputs": [
    {
     "data": {
      "text/plain": [
       "(1, 2000)"
      ]
     },
     "execution_count": 573,
     "metadata": {},
     "output_type": "execute_result"
    }
   ],
   "source": [
    "alpha_new = alpha_new.reshape(1,-1)\n",
    "alpha_new.shape"
   ]
  },
  {
   "cell_type": "code",
   "execution_count": 574,
   "id": "c9e3ac2f",
   "metadata": {},
   "outputs": [
    {
     "data": {
      "text/plain": [
       "(2000, 2000)"
      ]
     },
     "execution_count": 574,
     "metadata": {},
     "output_type": "execute_result"
    }
   ],
   "source": [
    "y_id = np.eye(m)\n",
    "for i in range(m):\n",
    "    y_id[i,i] = y_train[i]\n",
    "y_id.shape"
   ]
  },
  {
   "cell_type": "code",
   "execution_count": 575,
   "id": "c44cdb0f",
   "metadata": {},
   "outputs": [
    {
     "data": {
      "text/plain": [
       "(1, 2000)"
      ]
     },
     "execution_count": 575,
     "metadata": {},
     "output_type": "execute_result"
    }
   ],
   "source": [
    "alpha_new.shape"
   ]
  },
  {
   "cell_type": "code",
   "execution_count": 576,
   "id": "3a9d9cf9",
   "metadata": {},
   "outputs": [
    {
     "data": {
      "text/plain": [
       "(100, 1)"
      ]
     },
     "execution_count": 576,
     "metadata": {},
     "output_type": "execute_result"
    }
   ],
   "source": [
    "alpha_times_y = alpha_new*y_train\n",
    "weights = np.dot(alpha_times_y,X_train_new)\n",
    "weights = weights.reshape(-1,1)\n",
    "weights.shape"
   ]
  },
  {
   "cell_type": "code",
   "execution_count": 577,
   "id": "57f85c3f",
   "metadata": {},
   "outputs": [],
   "source": [
    "S = (alpha_new > 1e-4).flatten()"
   ]
  },
  {
   "cell_type": "code",
   "execution_count": 578,
   "id": "41c3fdbb",
   "metadata": {},
   "outputs": [],
   "source": [
    "b = y_train[S] - np.dot(X_train_new[S],weights)\n",
    "b_ave = b.mean()"
   ]
  },
  {
   "cell_type": "code",
   "execution_count": 579,
   "id": "800e858d",
   "metadata": {},
   "outputs": [
    {
     "data": {
      "text/plain": [
       "-0.26119051845103514"
      ]
     },
     "execution_count": 579,
     "metadata": {},
     "output_type": "execute_result"
    }
   ],
   "source": [
    "b_ave"
   ]
  },
  {
   "cell_type": "code",
   "execution_count": 580,
   "id": "0a3e4fd2",
   "metadata": {},
   "outputs": [
    {
     "data": {
      "text/plain": [
       "(11422, 100)"
      ]
     },
     "execution_count": 580,
     "metadata": {},
     "output_type": "execute_result"
    }
   ],
   "source": [
    "X_test_new.shape"
   ]
  },
  {
   "cell_type": "code",
   "execution_count": 581,
   "id": "58719aeb",
   "metadata": {},
   "outputs": [],
   "source": [
    "m_test,n_test = X_test_new.shape"
   ]
  },
  {
   "cell_type": "code",
   "execution_count": 582,
   "id": "12b14ff5",
   "metadata": {},
   "outputs": [],
   "source": [
    "y_pred = np.zeros(m_test)\n",
    "for i in range(m_test):\n",
    "    sign = np.dot(weights.T,X_test_new[i,:].reshape(-1,1))+b_ave\n",
    "    if sign > 0:\n",
    "        y_pred[i] = 1\n",
    "    else:\n",
    "        y_pred[i] = 0"
   ]
  },
  {
   "cell_type": "code",
   "execution_count": 583,
   "id": "2c783659",
   "metadata": {},
   "outputs": [
    {
     "data": {
      "text/plain": [
       "1662"
      ]
     },
     "execution_count": 583,
     "metadata": {},
     "output_type": "execute_result"
    }
   ],
   "source": [
    "count = 0\n",
    "for i in range(m_test):\n",
    "    if y_pred[i] != y_test[i]:\n",
    "        count += 1\n",
    "count"
   ]
  },
  {
   "cell_type": "code",
   "execution_count": 584,
   "id": "95d68bf2",
   "metadata": {},
   "outputs": [
    {
     "data": {
      "text/plain": [
       "0.8544913325161968"
      ]
     },
     "execution_count": 584,
     "metadata": {},
     "output_type": "execute_result"
    }
   ],
   "source": [
    "(m_test-count)/m_test"
   ]
  },
  {
   "cell_type": "code",
   "execution_count": null,
   "id": "b1ed5c10",
   "metadata": {},
   "outputs": [],
   "source": []
  },
  {
   "cell_type": "code",
   "execution_count": null,
   "id": "7f22c99b",
   "metadata": {},
   "outputs": [],
   "source": [
    "X_train = X_train.astype('float')"
   ]
  },
  {
   "cell_type": "code",
   "execution_count": 463,
   "id": "542df2fc",
   "metadata": {},
   "outputs": [],
   "source": [
    "y_train = y_train.astype('int')"
   ]
  },
  {
   "cell_type": "code",
   "execution_count": 452,
   "id": "e4a9d63c",
   "metadata": {},
   "outputs": [],
   "source": [
    "from sklearn.svm import SVC\n",
    "from sklearn.decomposition import PCA"
   ]
  },
  {
   "cell_type": "code",
   "execution_count": 590,
   "id": "9712b29b",
   "metadata": {},
   "outputs": [],
   "source": [
    "pca = PCA(n_components=100)"
   ]
  },
  {
   "cell_type": "code",
   "execution_count": 591,
   "id": "e3ca8877",
   "metadata": {},
   "outputs": [
    {
     "data": {
      "text/plain": [
       "(14422, 12069)"
      ]
     },
     "execution_count": 591,
     "metadata": {},
     "output_type": "execute_result"
    }
   ],
   "source": [
    "X.shape"
   ]
  },
  {
   "cell_type": "code",
   "execution_count": 592,
   "id": "16332592",
   "metadata": {
    "scrolled": true
   },
   "outputs": [],
   "source": [
    "X_new = pca.fit(X.T)"
   ]
  },
  {
   "cell_type": "code",
   "execution_count": 593,
   "id": "c232bffa",
   "metadata": {},
   "outputs": [
    {
     "data": {
      "text/plain": [
       "(100, 14422)"
      ]
     },
     "execution_count": 593,
     "metadata": {},
     "output_type": "execute_result"
    }
   ],
   "source": [
    "X_new = X_new.components_\n",
    "X_new.shape"
   ]
  },
  {
   "cell_type": "code",
   "execution_count": 594,
   "id": "82a2d839",
   "metadata": {},
   "outputs": [
    {
     "data": {
      "text/plain": [
       "(14422, 100)"
      ]
     },
     "execution_count": 594,
     "metadata": {},
     "output_type": "execute_result"
    }
   ],
   "source": [
    "X_new = X_new.T\n",
    "X_new.shape"
   ]
  },
  {
   "cell_type": "code",
   "execution_count": 596,
   "id": "f24d25a8",
   "metadata": {},
   "outputs": [
    {
     "data": {
      "text/plain": [
       "(3000, 100)"
      ]
     },
     "execution_count": 596,
     "metadata": {},
     "output_type": "execute_result"
    }
   ],
   "source": [
    "X_train_new,X_test_new = X_new[:3000,:],X_new[3000:,:]\n",
    "X_train_new.shape"
   ]
  },
  {
   "cell_type": "code",
   "execution_count": 597,
   "id": "8d01c379",
   "metadata": {},
   "outputs": [
    {
     "data": {
      "text/plain": [
       "(3000,)"
      ]
     },
     "execution_count": 597,
     "metadata": {},
     "output_type": "execute_result"
    }
   ],
   "source": [
    "y_train.shape"
   ]
  },
  {
   "cell_type": "code",
   "execution_count": null,
   "id": "450ff17f",
   "metadata": {},
   "outputs": [],
   "source": []
  },
  {
   "cell_type": "markdown",
   "id": "aedecfdd",
   "metadata": {},
   "source": [
    "### sklearn svm"
   ]
  },
  {
   "cell_type": "code",
   "execution_count": 520,
   "id": "ae3f7e77",
   "metadata": {},
   "outputs": [],
   "source": [
    "from sklearn.model_selection import cross_val_score"
   ]
  },
  {
   "cell_type": "code",
   "execution_count": 521,
   "id": "0ec1e3e6",
   "metadata": {},
   "outputs": [
    {
     "data": {
      "text/plain": [
       "array([0.98055736, 0.98444588, 0.98313878, 0.98508431, 0.98378729,\n",
       "       0.98638132, 0.98378729, 0.98832685, 0.98832685, 0.98702983])"
      ]
     },
     "execution_count": 521,
     "metadata": {},
     "output_type": "execute_result"
    }
   ],
   "source": [
    "clf = SVC(C = 10, kernel = 'linear')\n",
    "scores = cross_val_score(clf, X_new, y_new, cv=10)\n",
    "scores"
   ]
  },
  {
   "cell_type": "code",
   "execution_count": 503,
   "id": "23922dfb",
   "metadata": {},
   "outputs": [],
   "source": [
    "clf = SVC(C = 10, kernel = 'linear')\n",
    "clf.fit(X_train_new, y_train.ravel()) \n",
    "y_pred_sk = clf.predict(X_test_new)"
   ]
  },
  {
   "cell_type": "code",
   "execution_count": 504,
   "id": "71ddef9f",
   "metadata": {},
   "outputs": [
    {
     "data": {
      "text/plain": [
       "(11422,)"
      ]
     },
     "execution_count": 504,
     "metadata": {},
     "output_type": "execute_result"
    }
   ],
   "source": [
    "y_pred_sk.shape"
   ]
  },
  {
   "cell_type": "raw",
   "id": "53ab6086",
   "metadata": {},
   "source": [
    "count = 0 \n",
    "for i in range(len(y_test)):\n",
    "    if y_pred_sk[i] != y_test[i]:\n",
    "        count += 1"
   ]
  },
  {
   "cell_type": "code",
   "execution_count": 506,
   "id": "e069def7",
   "metadata": {},
   "outputs": [],
   "source": [
    "m_test = X_test_new.shape[0]"
   ]
  },
  {
   "cell_type": "code",
   "execution_count": 507,
   "id": "0475dfad",
   "metadata": {},
   "outputs": [
    {
     "data": {
      "text/plain": [
       "0.984153388198214"
      ]
     },
     "execution_count": 507,
     "metadata": {},
     "output_type": "execute_result"
    }
   ],
   "source": [
    "(m_test-count)/m_test"
   ]
  },
  {
   "cell_type": "code",
   "execution_count": null,
   "id": "4bccf976",
   "metadata": {},
   "outputs": [],
   "source": []
  },
  {
   "cell_type": "code",
   "execution_count": null,
   "id": "010350e9",
   "metadata": {},
   "outputs": [],
   "source": []
  },
  {
   "attachments": {},
   "cell_type": "markdown",
   "id": "ed83a286",
   "metadata": {},
   "source": [
    "612, 587, 604, 589, 615, 641, 575, 611, 610, 598, 589, 620, 617, 577, 609, 633, 588, 599, 601"
   ]
  },
  {
   "cell_type": "code",
   "execution_count": 480,
   "id": "bd5952b5",
   "metadata": {},
   "outputs": [
    {
     "data": {
      "text/plain": [
       "603.9473684210526"
      ]
     },
     "execution_count": 480,
     "metadata": {},
     "output_type": "execute_result"
    }
   ],
   "source": [
    "a = np.array([612, 587, 604, 589, 615, 641, 575, 611, 610, 598, 589, 620, 617, 577, 609, 633, 588, 599, 601])\n",
    "a.mean()"
   ]
  },
  {
   "cell_type": "code",
   "execution_count": null,
   "id": "3b2cfe87",
   "metadata": {},
   "outputs": [],
   "source": []
  }
 ],
 "metadata": {
  "kernelspec": {
   "display_name": "Python 3 (ipykernel)",
   "language": "python",
   "name": "python3"
  },
  "language_info": {
   "codemirror_mode": {
    "name": "ipython",
    "version": 3
   },
   "file_extension": ".py",
   "mimetype": "text/x-python",
   "name": "python",
   "nbconvert_exporter": "python",
   "pygments_lexer": "ipython3",
   "version": "3.9.7"
  }
 },
 "nbformat": 4,
 "nbformat_minor": 5
}
