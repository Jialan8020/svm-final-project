{
 "cells": [
  {
   "cell_type": "code",
   "execution_count": 12,
   "id": "f10e14d1",
   "metadata": {},
   "outputs": [],
   "source": [
    "import numpy as np\n",
    "import pandas as pd\n",
    "import cvxopt"
   ]
  },
  {
   "cell_type": "code",
   "execution_count": 4,
   "id": "5a24795d",
   "metadata": {},
   "outputs": [
    {
     "data": {
      "text/html": [
       "<div>\n",
       "<style scoped>\n",
       "    .dataframe tbody tr th:only-of-type {\n",
       "        vertical-align: middle;\n",
       "    }\n",
       "\n",
       "    .dataframe tbody tr th {\n",
       "        vertical-align: top;\n",
       "    }\n",
       "\n",
       "    .dataframe thead th {\n",
       "        text-align: right;\n",
       "    }\n",
       "</style>\n",
       "<table border=\"1\" class=\"dataframe\">\n",
       "  <thead>\n",
       "    <tr style=\"text-align: right;\">\n",
       "      <th></th>\n",
       "      <th>0</th>\n",
       "      <th>1</th>\n",
       "      <th>2</th>\n",
       "    </tr>\n",
       "  </thead>\n",
       "  <tbody>\n",
       "    <tr>\n",
       "      <th>0</th>\n",
       "      <td>10.028628</td>\n",
       "      <td>4.958046</td>\n",
       "      <td>1.0</td>\n",
       "    </tr>\n",
       "    <tr>\n",
       "      <th>1</th>\n",
       "      <td>8.915562</td>\n",
       "      <td>7.350755</td>\n",
       "      <td>1.0</td>\n",
       "    </tr>\n",
       "    <tr>\n",
       "      <th>2</th>\n",
       "      <td>6.661766</td>\n",
       "      <td>4.406966</td>\n",
       "      <td>1.0</td>\n",
       "    </tr>\n",
       "    <tr>\n",
       "      <th>3</th>\n",
       "      <td>8.964600</td>\n",
       "      <td>6.139508</td>\n",
       "      <td>1.0</td>\n",
       "    </tr>\n",
       "    <tr>\n",
       "      <th>4</th>\n",
       "      <td>9.288912</td>\n",
       "      <td>2.702496</td>\n",
       "      <td>1.0</td>\n",
       "    </tr>\n",
       "    <tr>\n",
       "      <th>...</th>\n",
       "      <td>...</td>\n",
       "      <td>...</td>\n",
       "      <td>...</td>\n",
       "    </tr>\n",
       "    <tr>\n",
       "      <th>195</th>\n",
       "      <td>6.164281</td>\n",
       "      <td>2.282623</td>\n",
       "      <td>1.0</td>\n",
       "    </tr>\n",
       "    <tr>\n",
       "      <th>196</th>\n",
       "      <td>3.747496</td>\n",
       "      <td>10.849596</td>\n",
       "      <td>-1.0</td>\n",
       "    </tr>\n",
       "    <tr>\n",
       "      <th>197</th>\n",
       "      <td>9.032419</td>\n",
       "      <td>6.817468</td>\n",
       "      <td>1.0</td>\n",
       "    </tr>\n",
       "    <tr>\n",
       "      <th>198</th>\n",
       "      <td>6.114723</td>\n",
       "      <td>2.799260</td>\n",
       "      <td>1.0</td>\n",
       "    </tr>\n",
       "    <tr>\n",
       "      <th>199</th>\n",
       "      <td>5.805304</td>\n",
       "      <td>12.495463</td>\n",
       "      <td>-1.0</td>\n",
       "    </tr>\n",
       "  </tbody>\n",
       "</table>\n",
       "<p>200 rows × 3 columns</p>\n",
       "</div>"
      ],
      "text/plain": [
       "             0          1    2\n",
       "0    10.028628   4.958046  1.0\n",
       "1     8.915562   7.350755  1.0\n",
       "2     6.661766   4.406966  1.0\n",
       "3     8.964600   6.139508  1.0\n",
       "4     9.288912   2.702496  1.0\n",
       "..         ...        ...  ...\n",
       "195   6.164281   2.282623  1.0\n",
       "196   3.747496  10.849596 -1.0\n",
       "197   9.032419   6.817468  1.0\n",
       "198   6.114723   2.799260  1.0\n",
       "199   5.805304  12.495463 -1.0\n",
       "\n",
       "[200 rows x 3 columns]"
      ]
     },
     "execution_count": 4,
     "metadata": {},
     "output_type": "execute_result"
    }
   ],
   "source": [
    "sample = pd.read_csv(\"/Users/jialanma/Downloads/svm-test-datasets/2d_binary.txt\",header=None)\n",
    "sample"
   ]
  },
  {
   "cell_type": "code",
   "execution_count": 15,
   "id": "5e98c225",
   "metadata": {},
   "outputs": [],
   "source": [
    "x = np.array(sample.iloc[:,0:2]) \n",
    "y = np.array(sample.iloc[:,2])"
   ]
  },
  {
   "cell_type": "code",
   "execution_count": 26,
   "id": "e7148982",
   "metadata": {},
   "outputs": [
    {
     "data": {
      "text/plain": [
       "200"
      ]
     },
     "execution_count": 26,
     "metadata": {},
     "output_type": "execute_result"
    }
   ],
   "source": [
    "length = len(y)\n",
    "length"
   ]
  },
  {
   "cell_type": "code",
   "execution_count": 116,
   "id": "9c323d32",
   "metadata": {},
   "outputs": [],
   "source": [
    "# Split in half for training and testing data\n",
    "x_train = x[:length//2]\n",
    "x_test = x[length//2:]\n",
    "\n",
    "y_train = y[:length//2]\n",
    "y_test = y[length//2:]"
   ]
  },
  {
   "cell_type": "code",
   "execution_count": 117,
   "id": "13a18187",
   "metadata": {},
   "outputs": [
    {
     "data": {
      "text/plain": [
       "((100, 2), (100, 2), (100,), (100,))"
      ]
     },
     "execution_count": 117,
     "metadata": {},
     "output_type": "execute_result"
    }
   ],
   "source": [
    "x_train.shape,x_test.shape,y_train.shape,y_test.shape"
   ]
  },
  {
   "cell_type": "code",
   "execution_count": 49,
   "id": "58f55e54",
   "metadata": {},
   "outputs": [],
   "source": [
    "# Build the parameters for QP solver\n",
    "# H is a matrix of size (n,n) such that Hi,j=y(i)y(j)<x(i)x(j)>\n",
    "row, col = x_train.shape[0], x_train.shape[0]\n",
    "H = np.zeros([row,col])\n",
    "for i in range(row):\n",
    "    for j in range(col):\n",
    "        H[i,j] = y_train[i]*y_train[j]*x_train[i,:].dot(x_train[j,:])\n"
   ]
  },
  {
   "cell_type": "code",
   "execution_count": 68,
   "id": "47715e00",
   "metadata": {},
   "outputs": [
    {
     "data": {
      "text/plain": [
       "array([-1., -1., -1., -1., -1., -1., -1., -1., -1., -1., -1., -1., -1.,\n",
       "       -1., -1., -1., -1., -1., -1., -1., -1., -1., -1., -1., -1., -1.,\n",
       "       -1., -1., -1., -1., -1., -1., -1., -1., -1., -1., -1., -1., -1.,\n",
       "       -1., -1., -1., -1., -1., -1., -1., -1., -1., -1., -1., -1., -1.,\n",
       "       -1., -1., -1., -1., -1., -1., -1., -1., -1., -1., -1., -1., -1.,\n",
       "       -1., -1., -1., -1., -1., -1., -1., -1., -1., -1., -1., -1., -1.,\n",
       "       -1., -1., -1., -1., -1., -1., -1., -1., -1., -1., -1., -1., -1.,\n",
       "       -1., -1., -1., -1., -1., -1., -1., -1., -1.])"
      ]
     },
     "execution_count": 68,
     "metadata": {},
     "output_type": "execute_result"
    }
   ],
   "source": [
    "# q is a nx1 vector with -1\n",
    "q = -np.ones(row)\n",
    "q"
   ]
  },
  {
   "cell_type": "code",
   "execution_count": 69,
   "id": "bea9da83",
   "metadata": {},
   "outputs": [
    {
     "data": {
      "text/plain": [
       "array([[-1., -0., -0., ..., -0., -0., -0.],\n",
       "       [-0., -1., -0., ..., -0., -0., -0.],\n",
       "       [-0., -0., -1., ..., -0., -0., -0.],\n",
       "       ...,\n",
       "       [-0., -0., -0., ..., -1., -0., -0.],\n",
       "       [-0., -0., -0., ..., -0., -1., -0.],\n",
       "       [-0., -0., -0., ..., -0., -0., -1.]])"
      ]
     },
     "execution_count": 69,
     "metadata": {},
     "output_type": "execute_result"
    }
   ],
   "source": [
    "# G is an identity matrix with -1's\n",
    "G = -np.eye(row)\n",
    "G"
   ]
  },
  {
   "cell_type": "code",
   "execution_count": 60,
   "id": "bc31a4be",
   "metadata": {},
   "outputs": [
    {
     "data": {
      "text/plain": [
       "array([0., 0., 0., 0., 0., 0., 0., 0., 0., 0., 0., 0., 0., 0., 0., 0., 0.,\n",
       "       0., 0., 0., 0., 0., 0., 0., 0., 0., 0., 0., 0., 0., 0., 0., 0., 0.,\n",
       "       0., 0., 0., 0., 0., 0., 0., 0., 0., 0., 0., 0., 0., 0., 0., 0., 0.,\n",
       "       0., 0., 0., 0., 0., 0., 0., 0., 0., 0., 0., 0., 0., 0., 0., 0., 0.,\n",
       "       0., 0., 0., 0., 0., 0., 0., 0., 0., 0., 0., 0., 0., 0., 0., 0., 0.,\n",
       "       0., 0., 0., 0., 0., 0., 0., 0., 0., 0., 0., 0., 0., 0., 0.])"
      ]
     },
     "execution_count": 60,
     "metadata": {},
     "output_type": "execute_result"
    }
   ],
   "source": [
    "# h is a nx1 vector of 0's\n",
    "h = np.zeros(row)\n",
    "h"
   ]
  },
  {
   "cell_type": "code",
   "execution_count": 75,
   "id": "8b027500",
   "metadata": {},
   "outputs": [
    {
     "data": {
      "text/plain": [
       "(1, 100)"
      ]
     },
     "execution_count": 75,
     "metadata": {},
     "output_type": "execute_result"
    }
   ],
   "source": [
    "# A is a nx1 vector of label y's\n",
    "A = y_train.reshape(1,-1)\n",
    "A.shape"
   ]
  },
  {
   "cell_type": "code",
   "execution_count": 64,
   "id": "0334724d",
   "metadata": {},
   "outputs": [],
   "source": [
    "# b is a scalar, zero\n",
    "b = 0"
   ]
  },
  {
   "cell_type": "code",
   "execution_count": 65,
   "id": "7408377f",
   "metadata": {},
   "outputs": [],
   "source": [
    "from cvxopt import matrix as cvxopt_matrix\n",
    "from cvxopt import solvers as cvxopt_solvers"
   ]
  },
  {
   "cell_type": "code",
   "execution_count": 79,
   "id": "5de5ccab",
   "metadata": {},
   "outputs": [],
   "source": [
    "#Converting into cvxopt format\n",
    "P = cvxopt_matrix(H)\n",
    "q = cvxopt_matrix(q)\n",
    "G = cvxopt_matrix(G)\n",
    "h = cvxopt_matrix(h)\n",
    "A = cvxopt_matrix(A)\n",
    "b = cvxopt_matrix(np.zeros(1))"
   ]
  },
  {
   "cell_type": "code",
   "execution_count": 80,
   "id": "9c277aa5",
   "metadata": {},
   "outputs": [],
   "source": [
    "#Setting solver parameters (change default to decrease tolerance) \n",
    "cvxopt_solvers.options['show_progress'] = False\n",
    "cvxopt_solvers.options['abstol'] = 1e-10\n",
    "cvxopt_solvers.options['reltol'] = 1e-10\n",
    "cvxopt_solvers.options['feastol'] = 1e-10"
   ]
  },
  {
   "cell_type": "code",
   "execution_count": 81,
   "id": "d13bb459",
   "metadata": {},
   "outputs": [],
   "source": [
    "#Run solver\n",
    "sol = cvxopt_solvers.qp(P, q, G, h, A, b)\n",
    "alphas = np.array(sol['x'])"
   ]
  },
  {
   "cell_type": "code",
   "execution_count": 119,
   "id": "f77b54fe",
   "metadata": {},
   "outputs": [
    {
     "data": {
      "text/plain": [
       "100"
      ]
     },
     "execution_count": 119,
     "metadata": {},
     "output_type": "execute_result"
    }
   ],
   "source": [
    "train_len = y_train.shape[0]\n",
    "train_len"
   ]
  },
  {
   "cell_type": "code",
   "execution_count": 123,
   "id": "6d17d15e",
   "metadata": {},
   "outputs": [
    {
     "data": {
      "text/plain": [
       "(1, 100)"
      ]
     },
     "execution_count": 123,
     "metadata": {},
     "output_type": "execute_result"
    }
   ],
   "source": [
    "alphas = alphas.reshape(1,-1)\n",
    "alphas.shape"
   ]
  },
  {
   "cell_type": "code",
   "execution_count": 121,
   "id": "edeea10e",
   "metadata": {},
   "outputs": [
    {
     "data": {
      "text/plain": [
       "(100,)"
      ]
     },
     "execution_count": 121,
     "metadata": {},
     "output_type": "execute_result"
    }
   ],
   "source": [
    "y_train.shape"
   ]
  },
  {
   "cell_type": "code",
   "execution_count": 122,
   "id": "23deaf6f",
   "metadata": {},
   "outputs": [
    {
     "data": {
      "text/plain": [
       "array([[ 1.,  0.,  0., ...,  0.,  0.,  0.],\n",
       "       [ 0.,  1.,  0., ...,  0.,  0.,  0.],\n",
       "       [ 0.,  0.,  1., ...,  0.,  0.,  0.],\n",
       "       ...,\n",
       "       [ 0.,  0.,  0., ..., -1.,  0.,  0.],\n",
       "       [ 0.,  0.,  0., ...,  0.,  1.,  0.],\n",
       "       [ 0.,  0.,  0., ...,  0.,  0.,  1.]])"
      ]
     },
     "execution_count": 122,
     "metadata": {},
     "output_type": "execute_result"
    }
   ],
   "source": [
    "y_matrix = np.eye(train_len)\n",
    "for i in range(train_len):\n",
    "    y_matrix[i,i] = y_train[i]\n",
    "y_matrix"
   ]
  },
  {
   "cell_type": "code",
   "execution_count": 124,
   "id": "a3260a12",
   "metadata": {},
   "outputs": [
    {
     "data": {
      "text/plain": [
       "array([[ 0.64362514, -1.00000044]])"
      ]
     },
     "execution_count": 124,
     "metadata": {},
     "output_type": "execute_result"
    }
   ],
   "source": [
    "# solve for w's and b's\n",
    "lambda_y = np.dot(alphas,y_matrix)\n",
    "weights = np.dot(lambda_y,x_train)\n",
    "weights"
   ]
  },
  {
   "cell_type": "code",
   "execution_count": 146,
   "id": "ae789411",
   "metadata": {},
   "outputs": [
    {
     "data": {
      "text/plain": [
       "array([False, False, False, False, False, False, False, False, False,\n",
       "       False, False, False, False, False, False, False, False, False,\n",
       "       False, False, False, False, False, False, False, False, False,\n",
       "       False, False, False, False, False, False, False, False, False,\n",
       "       False, False, False, False, False, False, False, False, False,\n",
       "       False, False, False, False, False, False, False, False, False,\n",
       "       False, False, False, False, False, False, False, False,  True,\n",
       "       False, False, False, False,  True, False, False, False, False,\n",
       "       False, False, False, False, False, False, False, False, False,\n",
       "       False, False, False, False, False, False, False, False, False,\n",
       "       False, False, False, False,  True, False, False, False, False,\n",
       "       False])"
      ]
     },
     "execution_count": 146,
     "metadata": {},
     "output_type": "execute_result"
    }
   ],
   "source": [
    "#Selecting the set of indices S corresponding to non zero parameters\n",
    "S = (alphas > 1e-4).flatten()\n",
    "S"
   ]
  },
  {
   "cell_type": "code",
   "execution_count": 154,
   "id": "9fcf58a6",
   "metadata": {},
   "outputs": [],
   "source": [
    "#Computing b\n",
    "b = y_train[S].reshape(3,1) - np.dot(x_train[S], weights.reshape(-1,1))"
   ]
  },
  {
   "cell_type": "code",
   "execution_count": 155,
   "id": "f0807771",
   "metadata": {},
   "outputs": [
    {
     "data": {
      "text/plain": [
       "array([[2.77022397],\n",
       "       [2.77022397],\n",
       "       [2.77022397]])"
      ]
     },
     "execution_count": 155,
     "metadata": {},
     "output_type": "execute_result"
    }
   ],
   "source": [
    "b"
   ]
  },
  {
   "cell_type": "code",
   "execution_count": 156,
   "id": "30abd459",
   "metadata": {},
   "outputs": [
    {
     "data": {
      "text/plain": [
       "array([2.77022397])"
      ]
     },
     "execution_count": 156,
     "metadata": {},
     "output_type": "execute_result"
    }
   ],
   "source": [
    "# Column mean\n",
    "b_final = b.mean(0)\n",
    "b_final"
   ]
  },
  {
   "cell_type": "code",
   "execution_count": 157,
   "id": "beef64cb",
   "metadata": {},
   "outputs": [
    {
     "name": "stdout",
     "output_type": "stream",
     "text": [
      "Alphas =  [0.01659302 0.69053409 0.7071271 ]\n",
      "w =  [ 0.64362514 -1.00000044]\n",
      "b =  [2.77022397]\n"
     ]
    }
   ],
   "source": [
    "#Display results\n",
    "print('Alphas = ',alphas[alphas > 1e-4])\n",
    "print('w = ', weights.flatten())\n",
    "print('b = ', b_final)"
   ]
  },
  {
   "cell_type": "code",
   "execution_count": 158,
   "id": "6630da12",
   "metadata": {},
   "outputs": [
    {
     "data": {
      "text/plain": [
       "(2, 1)"
      ]
     },
     "execution_count": 158,
     "metadata": {},
     "output_type": "execute_result"
    }
   ],
   "source": [
    "weights.T.shape"
   ]
  },
  {
   "cell_type": "code",
   "execution_count": 162,
   "id": "70459363",
   "metadata": {},
   "outputs": [],
   "source": [
    "# Test \n",
    "y_predict = np.dot(x_test,weights.T) + b_final\n",
    "for i in range(len(y_predict)):\n",
    "    if y_predict[i] > 0:\n",
    "        y_predict[i] = 1\n",
    "    else:  # <= 0\n",
    "        y_predict[i] = -1"
   ]
  },
  {
   "cell_type": "code",
   "execution_count": 163,
   "id": "84f754b3",
   "metadata": {},
   "outputs": [
    {
     "data": {
      "text/plain": [
       "array([-1.])"
      ]
     },
     "execution_count": 163,
     "metadata": {},
     "output_type": "execute_result"
    }
   ],
   "source": [
    "y_predict[0]"
   ]
  },
  {
   "cell_type": "code",
   "execution_count": 165,
   "id": "b0088224",
   "metadata": {},
   "outputs": [
    {
     "data": {
      "text/plain": [
       "array([ True])"
      ]
     },
     "execution_count": 165,
     "metadata": {},
     "output_type": "execute_result"
    }
   ],
   "source": [
    "y_test[0] == y_predict[0]"
   ]
  },
  {
   "cell_type": "code",
   "execution_count": 166,
   "id": "6d807f50",
   "metadata": {},
   "outputs": [
    {
     "data": {
      "text/plain": [
       "100"
      ]
     },
     "execution_count": 166,
     "metadata": {},
     "output_type": "execute_result"
    }
   ],
   "source": [
    "count = 0\n",
    "for i in range(len(y_predict)):\n",
    "    if y_test[i] == y_predict[i]:\n",
    "        count += 1\n",
    "count "
   ]
  },
  {
   "cell_type": "code",
   "execution_count": null,
   "id": "c1cd312d",
   "metadata": {},
   "outputs": [],
   "source": []
  }
 ],
 "metadata": {
  "kernelspec": {
   "display_name": "Python 3 (ipykernel)",
   "language": "python",
   "name": "python3"
  },
  "language_info": {
   "codemirror_mode": {
    "name": "ipython",
    "version": 3
   },
   "file_extension": ".py",
   "mimetype": "text/x-python",
   "name": "python",
   "nbconvert_exporter": "python",
   "pygments_lexer": "ipython3",
   "version": "3.8.5"
  }
 },
 "nbformat": 4,
 "nbformat_minor": 5
}
