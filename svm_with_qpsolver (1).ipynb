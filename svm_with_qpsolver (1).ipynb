{
 "cells": [
  {
   "cell_type": "code",
   "execution_count": 12,
   "id": "8e3bbd29",
   "metadata": {},
   "outputs": [],
   "source": [
    "import numpy as np\n",
    "import pandas as pd\n",
    "import cvxopt"
   ]
  },
  {
   "cell_type": "code",
   "execution_count": 4,
   "id": "666443a4",
   "metadata": {},
   "outputs": [
    {
     "data": {
      "text/html": [
       "<div>\n",
       "<style scoped>\n",
       "    .dataframe tbody tr th:only-of-type {\n",
       "        vertical-align: middle;\n",
       "    }\n",
       "\n",
       "    .dataframe tbody tr th {\n",
       "        vertical-align: top;\n",
       "    }\n",
       "\n",
       "    .dataframe thead th {\n",
       "        text-align: right;\n",
       "    }\n",
       "</style>\n",
       "<table border=\"1\" class=\"dataframe\">\n",
       "  <thead>\n",
       "    <tr style=\"text-align: right;\">\n",
       "      <th></th>\n",
       "      <th>0</th>\n",
       "      <th>1</th>\n",
       "      <th>2</th>\n",
       "    </tr>\n",
       "  </thead>\n",
       "  <tbody>\n",
       "    <tr>\n",
       "      <th>0</th>\n",
       "      <td>10.028628</td>\n",
       "      <td>4.958046</td>\n",
       "      <td>1.0</td>\n",
       "    </tr>\n",
       "    <tr>\n",
       "      <th>1</th>\n",
       "      <td>8.915562</td>\n",
       "      <td>7.350755</td>\n",
       "      <td>1.0</td>\n",
       "    </tr>\n",
       "    <tr>\n",
       "      <th>2</th>\n",
       "      <td>6.661766</td>\n",
       "      <td>4.406966</td>\n",
       "      <td>1.0</td>\n",
       "    </tr>\n",
       "    <tr>\n",
       "      <th>3</th>\n",
       "      <td>8.964600</td>\n",
       "      <td>6.139508</td>\n",
       "      <td>1.0</td>\n",
       "    </tr>\n",
       "    <tr>\n",
       "      <th>4</th>\n",
       "      <td>9.288912</td>\n",
       "      <td>2.702496</td>\n",
       "      <td>1.0</td>\n",
       "    </tr>\n",
       "    <tr>\n",
       "      <th>...</th>\n",
       "      <td>...</td>\n",
       "      <td>...</td>\n",
       "      <td>...</td>\n",
       "    </tr>\n",
       "    <tr>\n",
       "      <th>195</th>\n",
       "      <td>6.164281</td>\n",
       "      <td>2.282623</td>\n",
       "      <td>1.0</td>\n",
       "    </tr>\n",
       "    <tr>\n",
       "      <th>196</th>\n",
       "      <td>3.747496</td>\n",
       "      <td>10.849596</td>\n",
       "      <td>-1.0</td>\n",
       "    </tr>\n",
       "    <tr>\n",
       "      <th>197</th>\n",
       "      <td>9.032419</td>\n",
       "      <td>6.817468</td>\n",
       "      <td>1.0</td>\n",
       "    </tr>\n",
       "    <tr>\n",
       "      <th>198</th>\n",
       "      <td>6.114723</td>\n",
       "      <td>2.799260</td>\n",
       "      <td>1.0</td>\n",
       "    </tr>\n",
       "    <tr>\n",
       "      <th>199</th>\n",
       "      <td>5.805304</td>\n",
       "      <td>12.495463</td>\n",
       "      <td>-1.0</td>\n",
       "    </tr>\n",
       "  </tbody>\n",
       "</table>\n",
       "<p>200 rows × 3 columns</p>\n",
       "</div>"
      ],
      "text/plain": [
       "             0          1    2\n",
       "0    10.028628   4.958046  1.0\n",
       "1     8.915562   7.350755  1.0\n",
       "2     6.661766   4.406966  1.0\n",
       "3     8.964600   6.139508  1.0\n",
       "4     9.288912   2.702496  1.0\n",
       "..         ...        ...  ...\n",
       "195   6.164281   2.282623  1.0\n",
       "196   3.747496  10.849596 -1.0\n",
       "197   9.032419   6.817468  1.0\n",
       "198   6.114723   2.799260  1.0\n",
       "199   5.805304  12.495463 -1.0\n",
       "\n",
       "[200 rows x 3 columns]"
      ]
     },
     "execution_count": 4,
     "metadata": {},
     "output_type": "execute_result"
    }
   ],
   "source": [
    "sample = pd.read_csv(\"/Users/jialanma/Downloads/svm-test-datasets/2d_binary.txt\",header=None)\n",
    "sample"
   ]
  },
  {
   "cell_type": "code",
   "execution_count": 15,
   "id": "bb073b16",
   "metadata": {},
   "outputs": [],
   "source": [
    "x = np.array(sample.iloc[:,0:2]) \n",
    "y = np.array(sample.iloc[:,2])"
   ]
  },
  {
   "cell_type": "code",
   "execution_count": 26,
   "id": "d09ee021",
   "metadata": {},
   "outputs": [
    {
     "data": {
      "text/plain": [
       "200"
      ]
     },
     "execution_count": 26,
     "metadata": {},
     "output_type": "execute_result"
    }
   ],
   "source": [
    "length = len(y)\n",
    "length"
   ]
  },
  {
   "cell_type": "code",
   "execution_count": 116,
   "id": "39b24304",
   "metadata": {},
   "outputs": [],
   "source": [
    "# Split in half for training and testing data\n",
    "x_train = x[:length//2]\n",
    "x_test = x[length//2:]\n",
    "\n",
    "y_train = y[:length//2]\n",
    "y_test = y[length//2:]"
   ]
  },
  {
   "cell_type": "code",
   "execution_count": 117,
   "id": "30470ce7",
   "metadata": {},
   "outputs": [
    {
     "data": {
      "text/plain": [
       "((100, 2), (100, 2), (100,), (100,))"
      ]
     },
     "execution_count": 117,
     "metadata": {},
     "output_type": "execute_result"
    }
   ],
   "source": [
    "x_train.shape,x_test.shape,y_train.shape,y_test.shape"
   ]
  },
  {
   "cell_type": "code",
   "execution_count": 49,
   "id": "1d67f410",
   "metadata": {},
   "outputs": [],
   "source": [
    "# Build the parameters for QP solver\n",
    "# H is a matrix of size (n,n) such that Hi,j=y(i)y(j)<x(i)x(j)>\n",
    "row, col = x_train.shape[0], x_train.shape[0]\n",
    "H = np.zeros([row,col])\n",
    "for i in range(row):\n",
    "    for j in range(col):\n",
    "        H[i,j] = y_train[i]*y_train[j]*x_train[i,:].dot(x_train[j,:])\n"
   ]
  },
  {
   "cell_type": "code",
   "execution_count": 68,
   "id": "e20b779e",
   "metadata": {},
   "outputs": [
    {
     "data": {
      "text/plain": [
       "array([-1., -1., -1., -1., -1., -1., -1., -1., -1., -1., -1., -1., -1.,\n",
       "       -1., -1., -1., -1., -1., -1., -1., -1., -1., -1., -1., -1., -1.,\n",
       "       -1., -1., -1., -1., -1., -1., -1., -1., -1., -1., -1., -1., -1.,\n",
       "       -1., -1., -1., -1., -1., -1., -1., -1., -1., -1., -1., -1., -1.,\n",
       "       -1., -1., -1., -1., -1., -1., -1., -1., -1., -1., -1., -1., -1.,\n",
       "       -1., -1., -1., -1., -1., -1., -1., -1., -1., -1., -1., -1., -1.,\n",
       "       -1., -1., -1., -1., -1., -1., -1., -1., -1., -1., -1., -1., -1.,\n",
       "       -1., -1., -1., -1., -1., -1., -1., -1., -1.])"
      ]
     },
     "execution_count": 68,
     "metadata": {},
     "output_type": "execute_result"
    }
   ],
   "source": [
    "# q is a nx1 vector with -1\n",
    "q = -np.ones(row)\n",
    "q"
   ]
  },
  {
   "cell_type": "code",
   "execution_count": 69,
   "id": "9cdb35c7",
   "metadata": {},
   "outputs": [
    {
     "data": {
      "text/plain": [
       "array([[-1., -0., -0., ..., -0., -0., -0.],\n",
       "       [-0., -1., -0., ..., -0., -0., -0.],\n",
       "       [-0., -0., -1., ..., -0., -0., -0.],\n",
       "       ...,\n",
       "       [-0., -0., -0., ..., -1., -0., -0.],\n",
       "       [-0., -0., -0., ..., -0., -1., -0.],\n",
       "       [-0., -0., -0., ..., -0., -0., -1.]])"
      ]
     },
     "execution_count": 69,
     "metadata": {},
     "output_type": "execute_result"
    }
   ],
   "source": [
    "# G is an identity matrix with -1's\n",
    "G = -np.eye(row)\n",
    "G"
   ]
  },
  {
   "cell_type": "code",
   "execution_count": 60,
   "id": "7be276ad",
   "metadata": {},
   "outputs": [
    {
     "data": {
      "text/plain": [
       "array([0., 0., 0., 0., 0., 0., 0., 0., 0., 0., 0., 0., 0., 0., 0., 0., 0.,\n",
       "       0., 0., 0., 0., 0., 0., 0., 0., 0., 0., 0., 0., 0., 0., 0., 0., 0.,\n",
       "       0., 0., 0., 0., 0., 0., 0., 0., 0., 0., 0., 0., 0., 0., 0., 0., 0.,\n",
       "       0., 0., 0., 0., 0., 0., 0., 0., 0., 0., 0., 0., 0., 0., 0., 0., 0.,\n",
       "       0., 0., 0., 0., 0., 0., 0., 0., 0., 0., 0., 0., 0., 0., 0., 0., 0.,\n",
       "       0., 0., 0., 0., 0., 0., 0., 0., 0., 0., 0., 0., 0., 0., 0.])"
      ]
     },
     "execution_count": 60,
     "metadata": {},
     "output_type": "execute_result"
    }
   ],
   "source": [
    "# h is a nx1 vector of 0's\n",
    "h = np.zeros(row)\n",
    "h"
   ]
  },
  {
   "cell_type": "code",
   "execution_count": 75,
   "id": "10ec9064",
   "metadata": {},
   "outputs": [
    {
     "data": {
      "text/plain": [
       "(1, 100)"
      ]
     },
     "execution_count": 75,
     "metadata": {},
     "output_type": "execute_result"
    }
   ],
   "source": [
    "# A is a nx1 vector of label y's\n",
    "A = y_train.reshape(1,-1)\n",
    "A.shape"
   ]
  },
  {
   "cell_type": "code",
   "execution_count": 64,
   "id": "36e0f18b",
   "metadata": {},
   "outputs": [],
   "source": [
    "# b is a scalar, zero\n",
    "b = 0"
   ]
  },
  {
   "cell_type": "code",
   "execution_count": 65,
   "id": "f13ee51e",
   "metadata": {},
   "outputs": [],
   "source": [
    "from cvxopt import matrix as cvxopt_matrix\n",
    "from cvxopt import solvers as cvxopt_solvers"
   ]
  },
  {
   "cell_type": "code",
   "execution_count": 79,
   "id": "0aead034",
   "metadata": {},
   "outputs": [],
   "source": [
    "#Converting into cvxopt format\n",
    "P = cvxopt_matrix(H)\n",
    "q = cvxopt_matrix(q)\n",
    "G = cvxopt_matrix(G)\n",
    "h = cvxopt_matrix(h)\n",
    "A = cvxopt_matrix(A)\n",
    "b = cvxopt_matrix(np.zeros(1))"
   ]
  },
  {
   "cell_type": "code",
   "execution_count": 80,
   "id": "47df46e3",
   "metadata": {},
   "outputs": [],
   "source": [
    "#Setting solver parameters (change default to decrease tolerance) \n",
    "cvxopt_solvers.options['show_progress'] = False\n",
    "cvxopt_solvers.options['abstol'] = 1e-10\n",
    "cvxopt_solvers.options['reltol'] = 1e-10\n",
    "cvxopt_solvers.options['feastol'] = 1e-10"
   ]
  },
  {
   "cell_type": "code",
   "execution_count": 81,
   "id": "3431986a",
   "metadata": {},
   "outputs": [],
   "source": [
    "#Run solver\n",
    "sol = cvxopt_solvers.qp(P, q, G, h, A, b)\n",
    "alphas = np.array(sol['x'])"
   ]
  },
  {
   "cell_type": "code",
   "execution_count": 119,
   "id": "04292d39",
   "metadata": {},
   "outputs": [
    {
     "data": {
      "text/plain": [
       "100"
      ]
     },
     "execution_count": 119,
     "metadata": {},
     "output_type": "execute_result"
    }
   ],
   "source": [
    "train_len = y_train.shape[0]\n",
    "train_len"
   ]
  },
  {
   "cell_type": "code",
   "execution_count": 123,
   "id": "714e2a01",
   "metadata": {},
   "outputs": [
    {
     "data": {
      "text/plain": [
       "(1, 100)"
      ]
     },
     "execution_count": 123,
     "metadata": {},
     "output_type": "execute_result"
    }
   ],
   "source": [
    "alphas = alphas.reshape(1,-1)\n",
    "alphas.shape"
   ]
  },
  {
   "cell_type": "code",
   "execution_count": 121,
   "id": "b5184a2d",
   "metadata": {},
   "outputs": [
    {
     "data": {
      "text/plain": [
       "(100,)"
      ]
     },
     "execution_count": 121,
     "metadata": {},
     "output_type": "execute_result"
    }
   ],
   "source": [
    "y_train.shape"
   ]
  },
  {
   "cell_type": "code",
   "execution_count": 122,
   "id": "9a1a8631",
   "metadata": {},
   "outputs": [
    {
     "data": {
      "text/plain": [
       "array([[ 1.,  0.,  0., ...,  0.,  0.,  0.],\n",
       "       [ 0.,  1.,  0., ...,  0.,  0.,  0.],\n",
       "       [ 0.,  0.,  1., ...,  0.,  0.,  0.],\n",
       "       ...,\n",
       "       [ 0.,  0.,  0., ..., -1.,  0.,  0.],\n",
       "       [ 0.,  0.,  0., ...,  0.,  1.,  0.],\n",
       "       [ 0.,  0.,  0., ...,  0.,  0.,  1.]])"
      ]
     },
     "execution_count": 122,
     "metadata": {},
     "output_type": "execute_result"
    }
   ],
   "source": [
    "y_matrix = np.eye(train_len)\n",
    "for i in range(train_len):\n",
    "    y_matrix[i,i] = y_train[i]\n",
    "y_matrix"
   ]
  },
  {
   "cell_type": "code",
   "execution_count": 124,
   "id": "f02b6b56",
   "metadata": {},
   "outputs": [
    {
     "data": {
      "text/plain": [
       "array([[ 0.64362514, -1.00000044]])"
      ]
     },
     "execution_count": 124,
     "metadata": {},
     "output_type": "execute_result"
    }
   ],
   "source": [
    "# solve for w's and b's\n",
    "lambda_y = np.dot(alphas,y_matrix)\n",
    "weights = np.dot(lambda_y,x_train)\n",
    "weights"
   ]
  },
  {
   "cell_type": "code",
   "execution_count": 146,
   "id": "af95a127",
   "metadata": {},
   "outputs": [
    {
     "data": {
      "text/plain": [
       "array([False, False, False, False, False, False, False, False, False,\n",
       "       False, False, False, False, False, False, False, False, False,\n",
       "       False, False, False, False, False, False, False, False, False,\n",
       "       False, False, False, False, False, False, False, False, False,\n",
       "       False, False, False, False, False, False, False, False, False,\n",
       "       False, False, False, False, False, False, False, False, False,\n",
       "       False, False, False, False, False, False, False, False,  True,\n",
       "       False, False, False, False,  True, False, False, False, False,\n",
       "       False, False, False, False, False, False, False, False, False,\n",
       "       False, False, False, False, False, False, False, False, False,\n",
       "       False, False, False, False,  True, False, False, False, False,\n",
       "       False])"
      ]
     },
     "execution_count": 146,
     "metadata": {},
     "output_type": "execute_result"
    }
   ],
   "source": [
    "#Selecting the set of indices S corresponding to non zero parameters\n",
    "S = (alphas > 1e-4).flatten()\n",
    "S"
   ]
  },
  {
   "cell_type": "code",
   "execution_count": 154,
   "id": "f955d5dc",
   "metadata": {},
   "outputs": [],
   "source": [
    "#Computing b\n",
    "b = y_train[S].reshape(3,1) - np.dot(x_train[S], weights.reshape(-1,1))"
   ]
  },
  {
   "cell_type": "code",
   "execution_count": 155,
   "id": "25e71dc8",
   "metadata": {},
   "outputs": [
    {
     "data": {
      "text/plain": [
       "array([[2.77022397],\n",
       "       [2.77022397],\n",
       "       [2.77022397]])"
      ]
     },
     "execution_count": 155,
     "metadata": {},
     "output_type": "execute_result"
    }
   ],
   "source": [
    "b"
   ]
  },
  {
   "cell_type": "code",
   "execution_count": 156,
   "id": "c0ba7849",
   "metadata": {},
   "outputs": [
    {
     "data": {
      "text/plain": [
       "array([2.77022397])"
      ]
     },
     "execution_count": 156,
     "metadata": {},
     "output_type": "execute_result"
    }
   ],
   "source": [
    "# Column mean\n",
    "b_final = b.mean(0)\n",
    "b_final"
   ]
  },
  {
   "cell_type": "code",
   "execution_count": 157,
   "id": "44a6647d",
   "metadata": {},
   "outputs": [
    {
     "name": "stdout",
     "output_type": "stream",
     "text": [
      "Alphas =  [0.01659302 0.69053409 0.7071271 ]\n",
      "w =  [ 0.64362514 -1.00000044]\n",
      "b =  [2.77022397]\n"
     ]
    }
   ],
   "source": [
    "#Display results\n",
    "print('Alphas = ',alphas[alphas > 1e-4])\n",
    "print('w = ', weights.flatten())\n",
    "print('b = ', b_final)"
   ]
  },
  {
   "cell_type": "code",
   "execution_count": 158,
   "id": "83cdc9b4",
   "metadata": {},
   "outputs": [
    {
     "data": {
      "text/plain": [
       "(2, 1)"
      ]
     },
     "execution_count": 158,
     "metadata": {},
     "output_type": "execute_result"
    }
   ],
   "source": [
    "weights.T.shape"
   ]
  },
  {
   "cell_type": "code",
   "execution_count": 162,
   "id": "a86c7096",
   "metadata": {},
   "outputs": [],
   "source": [
    "# Test \n",
    "y_predict = np.dot(x_test,weights.T) + b_final\n",
    "for i in range(len(y_predict)):\n",
    "    if y_predict[i] > 0:\n",
    "        y_predict[i] = 1\n",
    "    else:  # <= 0\n",
    "        y_predict[i] = -1"
   ]
  },
  {
   "cell_type": "code",
   "execution_count": 163,
   "id": "f97aff6c",
   "metadata": {},
   "outputs": [
    {
     "data": {
      "text/plain": [
       "array([-1.])"
      ]
     },
     "execution_count": 163,
     "metadata": {},
     "output_type": "execute_result"
    }
   ],
   "source": [
    "y_predict[0]"
   ]
  },
  {
   "cell_type": "code",
   "execution_count": 165,
   "id": "169ebad4",
   "metadata": {},
   "outputs": [
    {
     "data": {
      "text/plain": [
       "array([ True])"
      ]
     },
     "execution_count": 165,
     "metadata": {},
     "output_type": "execute_result"
    }
   ],
   "source": [
    "y_test[0] == y_predict[0]"
   ]
  },
  {
   "cell_type": "code",
   "execution_count": 166,
   "id": "e66857b4",
   "metadata": {},
   "outputs": [
    {
     "data": {
      "text/plain": [
       "100"
      ]
     },
     "execution_count": 166,
     "metadata": {},
     "output_type": "execute_result"
    }
   ],
   "source": [
    "count = 0\n",
    "for i in range(len(y_predict)):\n",
    "    if y_test[i] == y_predict[i]:\n",
    "        count += 1\n",
    "count "
   ]
  },
  {
   "cell_type": "code",
   "execution_count": null,
   "id": "f925f8a6",
   "metadata": {},
   "outputs": [],
   "source": []
  },
  {
   "cell_type": "code",
   "execution_count": null,
   "id": "229c46fc",
   "metadata": {},
   "outputs": [],
   "source": []
  },
  {
   "cell_type": "code",
   "execution_count": null,
   "id": "dcc708a3",
   "metadata": {},
   "outputs": [],
   "source": []
  },
  {
   "cell_type": "code",
   "execution_count": null,
   "id": "77b4e4f1",
   "metadata": {},
   "outputs": [],
   "source": []
  },
  {
   "cell_type": "code",
   "execution_count": null,
   "id": "91ce7728",
   "metadata": {},
   "outputs": [],
   "source": []
  },
  {
   "cell_type": "code",
   "execution_count": 263,
   "id": "be664e4d",
   "metadata": {},
   "outputs": [],
   "source": [
    "X = np.array([[3,4],[1,4],[2,3],[6,-1],[7,-1],[5,-3],[2,4]] )\n",
    "y = np.array([-1,-1, -1, 1, 1 , 1, 1 ]).reshape(-1,1) * 1."
   ]
  },
  {
   "cell_type": "code",
   "execution_count": 264,
   "id": "f97f9389",
   "metadata": {
    "scrolled": true
   },
   "outputs": [
    {
     "data": {
      "text/plain": [
       "((7, 2), (7, 1))"
      ]
     },
     "execution_count": 264,
     "metadata": {},
     "output_type": "execute_result"
    }
   ],
   "source": [
    "X.shape,y.shape"
   ]
  },
  {
   "cell_type": "code",
   "execution_count": 265,
   "id": "e448ea0f",
   "metadata": {},
   "outputs": [],
   "source": [
    "m,n = X.shape"
   ]
  },
  {
   "cell_type": "code",
   "execution_count": 266,
   "id": "cdd5478a",
   "metadata": {
    "scrolled": true
   },
   "outputs": [],
   "source": [
    "X_dash = y * X #yixi"
   ]
  },
  {
   "cell_type": "code",
   "execution_count": 281,
   "id": "ca7c6dd8",
   "metadata": {},
   "outputs": [],
   "source": [
    "H = np.dot(X_dash,X_dash.T) *1. #yixiyjxj"
   ]
  },
  {
   "cell_type": "code",
   "execution_count": 268,
   "id": "78e6638a",
   "metadata": {},
   "outputs": [],
   "source": [
    "q = -np.ones((m,1))"
   ]
  },
  {
   "cell_type": "code",
   "execution_count": 269,
   "id": "42a54fc8",
   "metadata": {
    "scrolled": true
   },
   "outputs": [
    {
     "data": {
      "text/plain": [
       "(1, 7)"
      ]
     },
     "execution_count": 269,
     "metadata": {},
     "output_type": "execute_result"
    }
   ],
   "source": [
    "A = y.reshape(1,-1)\n",
    "A.shape"
   ]
  },
  {
   "cell_type": "code",
   "execution_count": 270,
   "id": "70aacaef",
   "metadata": {},
   "outputs": [],
   "source": [
    "b = np.zeros(1)"
   ]
  },
  {
   "cell_type": "code",
   "execution_count": 271,
   "id": "2575f2a2",
   "metadata": {
    "scrolled": true
   },
   "outputs": [
    {
     "data": {
      "text/plain": [
       "array([[-1., -0., -0., -0., -0., -0., -0.],\n",
       "       [-0., -1., -0., -0., -0., -0., -0.],\n",
       "       [-0., -0., -1., -0., -0., -0., -0.],\n",
       "       [-0., -0., -0., -1., -0., -0., -0.],\n",
       "       [-0., -0., -0., -0., -1., -0., -0.],\n",
       "       [-0., -0., -0., -0., -0., -1., -0.],\n",
       "       [-0., -0., -0., -0., -0., -0., -1.],\n",
       "       [ 1.,  0.,  0.,  0.,  0.,  0.,  0.],\n",
       "       [ 0.,  1.,  0.,  0.,  0.,  0.,  0.],\n",
       "       [ 0.,  0.,  1.,  0.,  0.,  0.,  0.],\n",
       "       [ 0.,  0.,  0.,  1.,  0.,  0.,  0.],\n",
       "       [ 0.,  0.,  0.,  0.,  1.,  0.,  0.],\n",
       "       [ 0.,  0.,  0.,  0.,  0.,  1.,  0.],\n",
       "       [ 0.,  0.,  0.,  0.,  0.,  0.,  1.]])"
      ]
     },
     "execution_count": 271,
     "metadata": {},
     "output_type": "execute_result"
    }
   ],
   "source": [
    "top_G = -np.eye(m)\n",
    "bot_G = np.eye(m)\n",
    "G_prime = np.concatenate((top_G,bot_G))\n",
    "G_prime"
   ]
  },
  {
   "cell_type": "code",
   "execution_count": 304,
   "id": "fbc2e674",
   "metadata": {},
   "outputs": [],
   "source": [
    "h = np.zeros([2*m])\n",
    "for i in range(m,2*m):\n",
    "    h[i] = C"
   ]
  },
  {
   "cell_type": "code",
   "execution_count": 305,
   "id": "632b3154",
   "metadata": {},
   "outputs": [
    {
     "data": {
      "text/plain": [
       "array([ 0.,  0.,  0.,  0.,  0.,  0.,  0., 10., 10., 10., 10., 10., 10.,\n",
       "       10.])"
      ]
     },
     "execution_count": 305,
     "metadata": {},
     "output_type": "execute_result"
    }
   ],
   "source": [
    "h"
   ]
  },
  {
   "cell_type": "code",
   "execution_count": 306,
   "id": "38da6af9",
   "metadata": {},
   "outputs": [],
   "source": [
    "#Converting into cvxopt format - as previously\n",
    "P = cvxopt_matrix(H)\n",
    "q = cvxopt_matrix(q)\n",
    "G = cvxopt_matrix(G_prime)\n",
    "h = cvxopt_matrix(h)\n",
    "A = cvxopt_matrix(A)\n",
    "b = cvxopt_matrix(b)"
   ]
  },
  {
   "cell_type": "code",
   "execution_count": 307,
   "id": "79a432b6",
   "metadata": {},
   "outputs": [],
   "source": [
    "#Run solver\n",
    "sol = cvxopt_solvers.qp(P, q, G, h, A, b)\n",
    "alphas = np.array(sol['x'])"
   ]
  },
  {
   "cell_type": "code",
   "execution_count": 310,
   "id": "c0485a9c",
   "metadata": {},
   "outputs": [
    {
     "data": {
      "text/plain": [
       "(1, 7)"
      ]
     },
     "execution_count": 310,
     "metadata": {},
     "output_type": "execute_result"
    }
   ],
   "source": [
    "alphas = alphas.reshape(1,-1)\n",
    "alphas.shape"
   ]
  },
  {
   "cell_type": "code",
   "execution_count": 311,
   "id": "b9ab2c58",
   "metadata": {},
   "outputs": [
    {
     "data": {
      "text/plain": [
       "array([[-1.,  0.,  0.,  0.,  0.,  0.,  0.],\n",
       "       [ 0., -1.,  0.,  0.,  0.,  0.,  0.],\n",
       "       [ 0.,  0., -1.,  0.,  0.,  0.,  0.],\n",
       "       [ 0.,  0.,  0.,  1.,  0.,  0.,  0.],\n",
       "       [ 0.,  0.,  0.,  0.,  1.,  0.,  0.],\n",
       "       [ 0.,  0.,  0.,  0.,  0.,  1.,  0.],\n",
       "       [ 0.,  0.,  0.,  0.,  0.,  0.,  1.]])"
      ]
     },
     "execution_count": 311,
     "metadata": {},
     "output_type": "execute_result"
    }
   ],
   "source": [
    "id_m = np.eye(m)\n",
    "for i in range(m):\n",
    "    id_m[i,i] = y[i]\n",
    "id_m"
   ]
  },
  {
   "cell_type": "code",
   "execution_count": 312,
   "id": "51347a54",
   "metadata": {},
   "outputs": [
    {
     "data": {
      "text/plain": [
       "(7, 7)"
      ]
     },
     "execution_count": 312,
     "metadata": {},
     "output_type": "execute_result"
    }
   ],
   "source": [
    "id_m.shape"
   ]
  },
  {
   "cell_type": "code",
   "execution_count": 313,
   "id": "4f359ea3",
   "metadata": {},
   "outputs": [
    {
     "data": {
      "text/plain": [
       "array([[ 0.25, -0.25]])"
      ]
     },
     "execution_count": 313,
     "metadata": {},
     "output_type": "execute_result"
    }
   ],
   "source": [
    "alpha_times_y = np.dot(alphas,id_m)\n",
    "w_vector = np.dot(alpha_times_y,X)\n",
    "w_vector"
   ]
  },
  {
   "cell_type": "code",
   "execution_count": 314,
   "id": "87f9043c",
   "metadata": {},
   "outputs": [
    {
     "data": {
      "text/plain": [
       "array([ True, False,  True,  True, False, False,  True])"
      ]
     },
     "execution_count": 314,
     "metadata": {},
     "output_type": "execute_result"
    }
   ],
   "source": [
    "S = (alphas > 1e-4).flatten() # alphas considered non-zero\n",
    "S"
   ]
  },
  {
   "cell_type": "code",
   "execution_count": 321,
   "id": "07355b54",
   "metadata": {},
   "outputs": [
    {
     "data": {
      "text/plain": [
       "array([[-0.75],\n",
       "       [-0.75],\n",
       "       [-0.75],\n",
       "       [ 1.5 ]])"
      ]
     },
     "execution_count": 321,
     "metadata": {},
     "output_type": "execute_result"
    }
   ],
   "source": [
    "b = y[S] - np.dot(X[S],w_vector.reshape(-1,1))\n",
    "b"
   ]
  },
  {
   "cell_type": "code",
   "execution_count": null,
   "id": "888e2de0",
   "metadata": {},
   "outputs": [],
   "source": []
  },
  {
   "cell_type": "code",
   "execution_count": null,
   "id": "06ea4e76",
   "metadata": {},
   "outputs": [],
   "source": []
  },
  {
   "cell_type": "code",
   "execution_count": 282,
   "id": "3c1a24cb",
   "metadata": {
    "scrolled": true
   },
   "outputs": [
    {
     "data": {
      "text/plain": [
       "array([[5.00000000e+00],\n",
       "       [1.52461667e-12],\n",
       "       [6.31250000e+00],\n",
       "       [1.31250000e+00],\n",
       "       [2.36607341e-12],\n",
       "       [1.32909858e-11],\n",
       "       [1.00000000e+01]])"
      ]
     },
     "execution_count": 282,
     "metadata": {},
     "output_type": "execute_result"
    }
   ],
   "source": [
    "C = 10\n",
    "m,n = X.shape\n",
    "y = y.reshape(-1,1) * 1.\n",
    "X_dash = y * X\n",
    "H = np.dot(X_dash , X_dash.T) * 1.\n",
    "\n",
    "#Converting into cvxopt format - as previously\n",
    "P = cvxopt_matrix(H)\n",
    "q = cvxopt_matrix(-np.ones((m, 1)))\n",
    "G = cvxopt_matrix(np.vstack((np.eye(m)*-1,np.eye(m))))\n",
    "h = cvxopt_matrix(np.hstack((np.zeros(m), np.ones(m) * C)))\n",
    "A = cvxopt_matrix(y.reshape(1, -1))\n",
    "b = cvxopt_matrix(np.zeros(1))\n",
    "\n",
    "#Run solver\n",
    "sol = cvxopt_solvers.qp(P, q, G, h, A, b)\n",
    "alphas = np.array(sol['x'])\n",
    "\n",
    "alphas"
   ]
  },
  {
   "cell_type": "code",
   "execution_count": 290,
   "id": "2a5af24e",
   "metadata": {},
   "outputs": [
    {
     "data": {
      "text/plain": [
       "array([ 0.,  0.,  0.,  0.,  0.,  0.,  0., 10., 10., 10., 10., 10., 10.,\n",
       "       10.])"
      ]
     },
     "execution_count": 290,
     "metadata": {},
     "output_type": "execute_result"
    }
   ],
   "source": [
    "np.hstack((np.zeros(m), np.ones(m) * C))"
   ]
  },
  {
   "cell_type": "code",
   "execution_count": null,
   "id": "c2657698",
   "metadata": {},
   "outputs": [],
   "source": []
  },
  {
   "cell_type": "code",
   "execution_count": null,
   "id": "d999006a",
   "metadata": {},
   "outputs": [],
   "source": []
  },
  {
   "cell_type": "markdown",
   "id": "ef999e74",
   "metadata": {},
   "source": [
    "#### Soft-margin SVM with cancer data"
   ]
  },
  {
   "cell_type": "code",
   "execution_count": 662,
   "id": "c620f5a5",
   "metadata": {},
   "outputs": [
    {
     "data": {
      "text/html": [
       "<div>\n",
       "<style scoped>\n",
       "    .dataframe tbody tr th:only-of-type {\n",
       "        vertical-align: middle;\n",
       "    }\n",
       "\n",
       "    .dataframe tbody tr th {\n",
       "        vertical-align: top;\n",
       "    }\n",
       "\n",
       "    .dataframe thead th {\n",
       "        text-align: right;\n",
       "    }\n",
       "</style>\n",
       "<table border=\"1\" class=\"dataframe\">\n",
       "  <thead>\n",
       "    <tr style=\"text-align: right;\">\n",
       "      <th></th>\n",
       "      <th>id</th>\n",
       "      <th>diagnosis</th>\n",
       "      <th>radius_mean</th>\n",
       "      <th>texture_mean</th>\n",
       "      <th>perimeter_mean</th>\n",
       "      <th>area_mean</th>\n",
       "      <th>smoothness_mean</th>\n",
       "      <th>compactness_mean</th>\n",
       "      <th>concavity_mean</th>\n",
       "      <th>concave points_mean</th>\n",
       "      <th>...</th>\n",
       "      <th>texture_worst</th>\n",
       "      <th>perimeter_worst</th>\n",
       "      <th>area_worst</th>\n",
       "      <th>smoothness_worst</th>\n",
       "      <th>compactness_worst</th>\n",
       "      <th>concavity_worst</th>\n",
       "      <th>concave points_worst</th>\n",
       "      <th>symmetry_worst</th>\n",
       "      <th>fractal_dimension_worst</th>\n",
       "      <th>Unnamed: 32</th>\n",
       "    </tr>\n",
       "  </thead>\n",
       "  <tbody>\n",
       "    <tr>\n",
       "      <th>0</th>\n",
       "      <td>842302</td>\n",
       "      <td>M</td>\n",
       "      <td>17.99</td>\n",
       "      <td>10.38</td>\n",
       "      <td>122.80</td>\n",
       "      <td>1001.0</td>\n",
       "      <td>0.11840</td>\n",
       "      <td>0.27760</td>\n",
       "      <td>0.30010</td>\n",
       "      <td>0.14710</td>\n",
       "      <td>...</td>\n",
       "      <td>17.33</td>\n",
       "      <td>184.60</td>\n",
       "      <td>2019.0</td>\n",
       "      <td>0.16220</td>\n",
       "      <td>0.66560</td>\n",
       "      <td>0.7119</td>\n",
       "      <td>0.2654</td>\n",
       "      <td>0.4601</td>\n",
       "      <td>0.11890</td>\n",
       "      <td>NaN</td>\n",
       "    </tr>\n",
       "    <tr>\n",
       "      <th>1</th>\n",
       "      <td>842517</td>\n",
       "      <td>M</td>\n",
       "      <td>20.57</td>\n",
       "      <td>17.77</td>\n",
       "      <td>132.90</td>\n",
       "      <td>1326.0</td>\n",
       "      <td>0.08474</td>\n",
       "      <td>0.07864</td>\n",
       "      <td>0.08690</td>\n",
       "      <td>0.07017</td>\n",
       "      <td>...</td>\n",
       "      <td>23.41</td>\n",
       "      <td>158.80</td>\n",
       "      <td>1956.0</td>\n",
       "      <td>0.12380</td>\n",
       "      <td>0.18660</td>\n",
       "      <td>0.2416</td>\n",
       "      <td>0.1860</td>\n",
       "      <td>0.2750</td>\n",
       "      <td>0.08902</td>\n",
       "      <td>NaN</td>\n",
       "    </tr>\n",
       "    <tr>\n",
       "      <th>2</th>\n",
       "      <td>84300903</td>\n",
       "      <td>M</td>\n",
       "      <td>19.69</td>\n",
       "      <td>21.25</td>\n",
       "      <td>130.00</td>\n",
       "      <td>1203.0</td>\n",
       "      <td>0.10960</td>\n",
       "      <td>0.15990</td>\n",
       "      <td>0.19740</td>\n",
       "      <td>0.12790</td>\n",
       "      <td>...</td>\n",
       "      <td>25.53</td>\n",
       "      <td>152.50</td>\n",
       "      <td>1709.0</td>\n",
       "      <td>0.14440</td>\n",
       "      <td>0.42450</td>\n",
       "      <td>0.4504</td>\n",
       "      <td>0.2430</td>\n",
       "      <td>0.3613</td>\n",
       "      <td>0.08758</td>\n",
       "      <td>NaN</td>\n",
       "    </tr>\n",
       "    <tr>\n",
       "      <th>3</th>\n",
       "      <td>84348301</td>\n",
       "      <td>M</td>\n",
       "      <td>11.42</td>\n",
       "      <td>20.38</td>\n",
       "      <td>77.58</td>\n",
       "      <td>386.1</td>\n",
       "      <td>0.14250</td>\n",
       "      <td>0.28390</td>\n",
       "      <td>0.24140</td>\n",
       "      <td>0.10520</td>\n",
       "      <td>...</td>\n",
       "      <td>26.50</td>\n",
       "      <td>98.87</td>\n",
       "      <td>567.7</td>\n",
       "      <td>0.20980</td>\n",
       "      <td>0.86630</td>\n",
       "      <td>0.6869</td>\n",
       "      <td>0.2575</td>\n",
       "      <td>0.6638</td>\n",
       "      <td>0.17300</td>\n",
       "      <td>NaN</td>\n",
       "    </tr>\n",
       "    <tr>\n",
       "      <th>4</th>\n",
       "      <td>84358402</td>\n",
       "      <td>M</td>\n",
       "      <td>20.29</td>\n",
       "      <td>14.34</td>\n",
       "      <td>135.10</td>\n",
       "      <td>1297.0</td>\n",
       "      <td>0.10030</td>\n",
       "      <td>0.13280</td>\n",
       "      <td>0.19800</td>\n",
       "      <td>0.10430</td>\n",
       "      <td>...</td>\n",
       "      <td>16.67</td>\n",
       "      <td>152.20</td>\n",
       "      <td>1575.0</td>\n",
       "      <td>0.13740</td>\n",
       "      <td>0.20500</td>\n",
       "      <td>0.4000</td>\n",
       "      <td>0.1625</td>\n",
       "      <td>0.2364</td>\n",
       "      <td>0.07678</td>\n",
       "      <td>NaN</td>\n",
       "    </tr>\n",
       "    <tr>\n",
       "      <th>...</th>\n",
       "      <td>...</td>\n",
       "      <td>...</td>\n",
       "      <td>...</td>\n",
       "      <td>...</td>\n",
       "      <td>...</td>\n",
       "      <td>...</td>\n",
       "      <td>...</td>\n",
       "      <td>...</td>\n",
       "      <td>...</td>\n",
       "      <td>...</td>\n",
       "      <td>...</td>\n",
       "      <td>...</td>\n",
       "      <td>...</td>\n",
       "      <td>...</td>\n",
       "      <td>...</td>\n",
       "      <td>...</td>\n",
       "      <td>...</td>\n",
       "      <td>...</td>\n",
       "      <td>...</td>\n",
       "      <td>...</td>\n",
       "      <td>...</td>\n",
       "    </tr>\n",
       "    <tr>\n",
       "      <th>564</th>\n",
       "      <td>926424</td>\n",
       "      <td>M</td>\n",
       "      <td>21.56</td>\n",
       "      <td>22.39</td>\n",
       "      <td>142.00</td>\n",
       "      <td>1479.0</td>\n",
       "      <td>0.11100</td>\n",
       "      <td>0.11590</td>\n",
       "      <td>0.24390</td>\n",
       "      <td>0.13890</td>\n",
       "      <td>...</td>\n",
       "      <td>26.40</td>\n",
       "      <td>166.10</td>\n",
       "      <td>2027.0</td>\n",
       "      <td>0.14100</td>\n",
       "      <td>0.21130</td>\n",
       "      <td>0.4107</td>\n",
       "      <td>0.2216</td>\n",
       "      <td>0.2060</td>\n",
       "      <td>0.07115</td>\n",
       "      <td>NaN</td>\n",
       "    </tr>\n",
       "    <tr>\n",
       "      <th>565</th>\n",
       "      <td>926682</td>\n",
       "      <td>M</td>\n",
       "      <td>20.13</td>\n",
       "      <td>28.25</td>\n",
       "      <td>131.20</td>\n",
       "      <td>1261.0</td>\n",
       "      <td>0.09780</td>\n",
       "      <td>0.10340</td>\n",
       "      <td>0.14400</td>\n",
       "      <td>0.09791</td>\n",
       "      <td>...</td>\n",
       "      <td>38.25</td>\n",
       "      <td>155.00</td>\n",
       "      <td>1731.0</td>\n",
       "      <td>0.11660</td>\n",
       "      <td>0.19220</td>\n",
       "      <td>0.3215</td>\n",
       "      <td>0.1628</td>\n",
       "      <td>0.2572</td>\n",
       "      <td>0.06637</td>\n",
       "      <td>NaN</td>\n",
       "    </tr>\n",
       "    <tr>\n",
       "      <th>566</th>\n",
       "      <td>926954</td>\n",
       "      <td>M</td>\n",
       "      <td>16.60</td>\n",
       "      <td>28.08</td>\n",
       "      <td>108.30</td>\n",
       "      <td>858.1</td>\n",
       "      <td>0.08455</td>\n",
       "      <td>0.10230</td>\n",
       "      <td>0.09251</td>\n",
       "      <td>0.05302</td>\n",
       "      <td>...</td>\n",
       "      <td>34.12</td>\n",
       "      <td>126.70</td>\n",
       "      <td>1124.0</td>\n",
       "      <td>0.11390</td>\n",
       "      <td>0.30940</td>\n",
       "      <td>0.3403</td>\n",
       "      <td>0.1418</td>\n",
       "      <td>0.2218</td>\n",
       "      <td>0.07820</td>\n",
       "      <td>NaN</td>\n",
       "    </tr>\n",
       "    <tr>\n",
       "      <th>567</th>\n",
       "      <td>927241</td>\n",
       "      <td>M</td>\n",
       "      <td>20.60</td>\n",
       "      <td>29.33</td>\n",
       "      <td>140.10</td>\n",
       "      <td>1265.0</td>\n",
       "      <td>0.11780</td>\n",
       "      <td>0.27700</td>\n",
       "      <td>0.35140</td>\n",
       "      <td>0.15200</td>\n",
       "      <td>...</td>\n",
       "      <td>39.42</td>\n",
       "      <td>184.60</td>\n",
       "      <td>1821.0</td>\n",
       "      <td>0.16500</td>\n",
       "      <td>0.86810</td>\n",
       "      <td>0.9387</td>\n",
       "      <td>0.2650</td>\n",
       "      <td>0.4087</td>\n",
       "      <td>0.12400</td>\n",
       "      <td>NaN</td>\n",
       "    </tr>\n",
       "    <tr>\n",
       "      <th>568</th>\n",
       "      <td>92751</td>\n",
       "      <td>B</td>\n",
       "      <td>7.76</td>\n",
       "      <td>24.54</td>\n",
       "      <td>47.92</td>\n",
       "      <td>181.0</td>\n",
       "      <td>0.05263</td>\n",
       "      <td>0.04362</td>\n",
       "      <td>0.00000</td>\n",
       "      <td>0.00000</td>\n",
       "      <td>...</td>\n",
       "      <td>30.37</td>\n",
       "      <td>59.16</td>\n",
       "      <td>268.6</td>\n",
       "      <td>0.08996</td>\n",
       "      <td>0.06444</td>\n",
       "      <td>0.0000</td>\n",
       "      <td>0.0000</td>\n",
       "      <td>0.2871</td>\n",
       "      <td>0.07039</td>\n",
       "      <td>NaN</td>\n",
       "    </tr>\n",
       "  </tbody>\n",
       "</table>\n",
       "<p>569 rows × 33 columns</p>\n",
       "</div>"
      ],
      "text/plain": [
       "           id diagnosis  radius_mean  texture_mean  perimeter_mean  area_mean  \\\n",
       "0      842302         M        17.99         10.38          122.80     1001.0   \n",
       "1      842517         M        20.57         17.77          132.90     1326.0   \n",
       "2    84300903         M        19.69         21.25          130.00     1203.0   \n",
       "3    84348301         M        11.42         20.38           77.58      386.1   \n",
       "4    84358402         M        20.29         14.34          135.10     1297.0   \n",
       "..        ...       ...          ...           ...             ...        ...   \n",
       "564    926424         M        21.56         22.39          142.00     1479.0   \n",
       "565    926682         M        20.13         28.25          131.20     1261.0   \n",
       "566    926954         M        16.60         28.08          108.30      858.1   \n",
       "567    927241         M        20.60         29.33          140.10     1265.0   \n",
       "568     92751         B         7.76         24.54           47.92      181.0   \n",
       "\n",
       "     smoothness_mean  compactness_mean  concavity_mean  concave points_mean  \\\n",
       "0            0.11840           0.27760         0.30010              0.14710   \n",
       "1            0.08474           0.07864         0.08690              0.07017   \n",
       "2            0.10960           0.15990         0.19740              0.12790   \n",
       "3            0.14250           0.28390         0.24140              0.10520   \n",
       "4            0.10030           0.13280         0.19800              0.10430   \n",
       "..               ...               ...             ...                  ...   \n",
       "564          0.11100           0.11590         0.24390              0.13890   \n",
       "565          0.09780           0.10340         0.14400              0.09791   \n",
       "566          0.08455           0.10230         0.09251              0.05302   \n",
       "567          0.11780           0.27700         0.35140              0.15200   \n",
       "568          0.05263           0.04362         0.00000              0.00000   \n",
       "\n",
       "     ...  texture_worst  perimeter_worst  area_worst  smoothness_worst  \\\n",
       "0    ...          17.33           184.60      2019.0           0.16220   \n",
       "1    ...          23.41           158.80      1956.0           0.12380   \n",
       "2    ...          25.53           152.50      1709.0           0.14440   \n",
       "3    ...          26.50            98.87       567.7           0.20980   \n",
       "4    ...          16.67           152.20      1575.0           0.13740   \n",
       "..   ...            ...              ...         ...               ...   \n",
       "564  ...          26.40           166.10      2027.0           0.14100   \n",
       "565  ...          38.25           155.00      1731.0           0.11660   \n",
       "566  ...          34.12           126.70      1124.0           0.11390   \n",
       "567  ...          39.42           184.60      1821.0           0.16500   \n",
       "568  ...          30.37            59.16       268.6           0.08996   \n",
       "\n",
       "     compactness_worst  concavity_worst  concave points_worst  symmetry_worst  \\\n",
       "0              0.66560           0.7119                0.2654          0.4601   \n",
       "1              0.18660           0.2416                0.1860          0.2750   \n",
       "2              0.42450           0.4504                0.2430          0.3613   \n",
       "3              0.86630           0.6869                0.2575          0.6638   \n",
       "4              0.20500           0.4000                0.1625          0.2364   \n",
       "..                 ...              ...                   ...             ...   \n",
       "564            0.21130           0.4107                0.2216          0.2060   \n",
       "565            0.19220           0.3215                0.1628          0.2572   \n",
       "566            0.30940           0.3403                0.1418          0.2218   \n",
       "567            0.86810           0.9387                0.2650          0.4087   \n",
       "568            0.06444           0.0000                0.0000          0.2871   \n",
       "\n",
       "     fractal_dimension_worst  Unnamed: 32  \n",
       "0                    0.11890          NaN  \n",
       "1                    0.08902          NaN  \n",
       "2                    0.08758          NaN  \n",
       "3                    0.17300          NaN  \n",
       "4                    0.07678          NaN  \n",
       "..                       ...          ...  \n",
       "564                  0.07115          NaN  \n",
       "565                  0.06637          NaN  \n",
       "566                  0.07820          NaN  \n",
       "567                  0.12400          NaN  \n",
       "568                  0.07039          NaN  \n",
       "\n",
       "[569 rows x 33 columns]"
      ]
     },
     "execution_count": 662,
     "metadata": {},
     "output_type": "execute_result"
    }
   ],
   "source": [
    "cancer_dat = pd.read_csv(\"/Users/jialanma/Downloads/cancer.csv\")\n",
    "cancer_dat"
   ]
  },
  {
   "cell_type": "code",
   "execution_count": 663,
   "id": "2d7a20eb",
   "metadata": {},
   "outputs": [],
   "source": [
    "X = np.array(cancer_dat.iloc[:,2:-1])\n",
    "diagnosis = np.array(cancer_dat.iloc[:,1])"
   ]
  },
  {
   "cell_type": "code",
   "execution_count": 664,
   "id": "2226a0e8",
   "metadata": {},
   "outputs": [
    {
     "data": {
      "text/plain": [
       "(569, 30)"
      ]
     },
     "execution_count": 664,
     "metadata": {},
     "output_type": "execute_result"
    }
   ],
   "source": [
    "m,n = X.shape\n",
    "m,n"
   ]
  },
  {
   "cell_type": "code",
   "execution_count": 665,
   "id": "4625b5ea",
   "metadata": {},
   "outputs": [],
   "source": [
    "y = np.zeros(m)\n",
    "for i in range(m):\n",
    "    if diagnosis[i] == \"M\":\n",
    "        y[i] = 1\n",
    "    else:\n",
    "        y[i] = -1"
   ]
  },
  {
   "cell_type": "code",
   "execution_count": 666,
   "id": "f7380256",
   "metadata": {},
   "outputs": [],
   "source": [
    "# Split data for training and testing\n",
    "X_train, X_test = X[:300],X[300:]\n",
    "y_train, y_test = y[:300],y[300:]"
   ]
  },
  {
   "cell_type": "code",
   "execution_count": 667,
   "id": "891b510b",
   "metadata": {},
   "outputs": [
    {
     "data": {
      "text/plain": [
       "(300, 1)"
      ]
     },
     "execution_count": 667,
     "metadata": {},
     "output_type": "execute_result"
    }
   ],
   "source": [
    "y_train = y_train.reshape(-1,1)*1.\n",
    "y_train.shape"
   ]
  },
  {
   "cell_type": "code",
   "execution_count": 668,
   "id": "0d42f81e",
   "metadata": {},
   "outputs": [],
   "source": [
    "m_train,n_train = X_train.shape"
   ]
  },
  {
   "cell_type": "code",
   "execution_count": 354,
   "id": "4c2d5c48",
   "metadata": {
    "scrolled": true
   },
   "outputs": [
    {
     "data": {
      "text/plain": [
       "array([[ 1.799e+01,  1.038e+01,  1.228e+02, ...,  2.654e-01,  4.601e-01,\n",
       "         1.189e-01],\n",
       "       [ 2.057e+01,  1.777e+01,  1.329e+02, ...,  1.860e-01,  2.750e-01,\n",
       "         8.902e-02],\n",
       "       [ 1.969e+01,  2.125e+01,  1.300e+02, ...,  2.430e-01,  3.613e-01,\n",
       "         8.758e-02],\n",
       "       ...,\n",
       "       [ 1.176e+01,  1.814e+01,  7.500e+01, ...,  7.160e-02,  1.978e-01,\n",
       "         6.915e-02],\n",
       "       [-1.426e+01, -1.817e+01, -9.122e+01, ..., -7.530e-02, -2.636e-01,\n",
       "        -7.676e-02],\n",
       "       [-1.051e+01, -2.309e+01, -6.685e+01, ..., -3.125e-02, -2.227e-01,\n",
       "        -6.777e-02]])"
      ]
     },
     "execution_count": 354,
     "metadata": {},
     "output_type": "execute_result"
    }
   ],
   "source": [
    "y_train * X_train"
   ]
  },
  {
   "cell_type": "code",
   "execution_count": 358,
   "id": "eb9f083c",
   "metadata": {},
   "outputs": [],
   "source": [
    "C = 10"
   ]
  },
  {
   "cell_type": "code",
   "execution_count": 385,
   "id": "3bd3371c",
   "metadata": {},
   "outputs": [],
   "source": [
    "def transform_params(X_train,y_train,C):\n",
    "    m = X_train.shape[0]\n",
    "    X_times_y = y_train * X_train\n",
    "    H = np.dot(X_times_y,X_times_y.T)\n",
    "    q = -np.ones((m,1))\n",
    "    G = np.vstack((-np.eye(m),np.eye(m)))\n",
    "    h = np.hstack((np.zeros(m),C*np.ones(m)))\n",
    "    A = y_train.reshape(1,-1)\n",
    "    b = np.zeros(1)\n",
    "    \n",
    "    return H,q,G,h,A,b"
   ]
  },
  {
   "cell_type": "code",
   "execution_count": 386,
   "id": "072f150b",
   "metadata": {},
   "outputs": [],
   "source": [
    "H,q,G,h,A,b = transform_params(X_train,y_train,C)"
   ]
  },
  {
   "cell_type": "code",
   "execution_count": 387,
   "id": "2731dd9d",
   "metadata": {},
   "outputs": [],
   "source": [
    "#Converting into cvxopt format\n",
    "P = cvxopt_matrix(H)\n",
    "q = cvxopt_matrix(q)\n",
    "G = cvxopt_matrix(G)\n",
    "h = cvxopt_matrix(h)\n",
    "A = cvxopt_matrix(A)\n",
    "b = cvxopt_matrix(b)"
   ]
  },
  {
   "cell_type": "code",
   "execution_count": 388,
   "id": "51605ff5",
   "metadata": {},
   "outputs": [],
   "source": [
    "#Run solver\n",
    "sol = cvxopt_solvers.qp(P, q, G, h, A, b)\n",
    "alphas = np.array(sol['x'])"
   ]
  },
  {
   "cell_type": "code",
   "execution_count": 397,
   "id": "a192189e",
   "metadata": {},
   "outputs": [
    {
     "data": {
      "text/plain": [
       "(1, 300)"
      ]
     },
     "execution_count": 397,
     "metadata": {},
     "output_type": "execute_result"
    }
   ],
   "source": [
    "alphas = alphas.reshape(1,-1)\n",
    "alphas.shape"
   ]
  },
  {
   "cell_type": "code",
   "execution_count": 399,
   "id": "eb9e63a8",
   "metadata": {},
   "outputs": [
    {
     "data": {
      "text/plain": [
       "array([[ 1.,  0.,  0., ...,  0.,  0.,  0.],\n",
       "       [ 0.,  1.,  0., ...,  0.,  0.,  0.],\n",
       "       [ 0.,  0.,  1., ...,  0.,  0.,  0.],\n",
       "       ...,\n",
       "       [ 0.,  0.,  0., ...,  1.,  0.,  0.],\n",
       "       [ 0.,  0.,  0., ...,  0., -1.,  0.],\n",
       "       [ 0.,  0.,  0., ...,  0.,  0., -1.]])"
      ]
     },
     "execution_count": 399,
     "metadata": {},
     "output_type": "execute_result"
    }
   ],
   "source": [
    "y_id = np.eye(m_train)\n",
    "for i in range(m_train):\n",
    "    y_id[i,i] = y_train[i]\n",
    "y_id"
   ]
  },
  {
   "cell_type": "code",
   "execution_count": 414,
   "id": "75813f34",
   "metadata": {},
   "outputs": [
    {
     "data": {
      "text/plain": [
       "(30, 1)"
      ]
     },
     "execution_count": 414,
     "metadata": {},
     "output_type": "execute_result"
    }
   ],
   "source": [
    "alpha_times_y = np.dot(alphas,y_id)\n",
    "weights = np.dot(alpha_times_y,X_train)\n",
    "weights = weights.reshape(-1,1)\n",
    "weights.shape"
   ]
  },
  {
   "cell_type": "code",
   "execution_count": 433,
   "id": "5cab7041",
   "metadata": {},
   "outputs": [],
   "source": [
    "b = y_train[S] - np.dot(X_train[S],weights)\n",
    "b_ave = b.mean()"
   ]
  },
  {
   "cell_type": "code",
   "execution_count": 417,
   "id": "95eca226",
   "metadata": {},
   "outputs": [],
   "source": [
    "m_test,n_test = X_test.shape"
   ]
  },
  {
   "cell_type": "code",
   "execution_count": 434,
   "id": "1ce8550b",
   "metadata": {},
   "outputs": [],
   "source": [
    "y_pred = np.zeros(m_test)\n",
    "for i in range(m_test):\n",
    "    sign = np.dot(weights.T,X_test[i,:].reshape(-1,1))+b_ave\n",
    "    if sign > 0:\n",
    "        y_pred[i] = 1\n",
    "    else:\n",
    "        y_pred[i] = -1"
   ]
  },
  {
   "cell_type": "code",
   "execution_count": 435,
   "id": "dc64333a",
   "metadata": {},
   "outputs": [
    {
     "data": {
      "text/plain": [
       "12"
      ]
     },
     "execution_count": 435,
     "metadata": {},
     "output_type": "execute_result"
    }
   ],
   "source": [
    "count = 0\n",
    "for i in range(m_test):\n",
    "    if y_pred[i] != y_test[i]:\n",
    "        count += 1\n",
    "count"
   ]
  },
  {
   "cell_type": "code",
   "execution_count": 437,
   "id": "3cda5ae0",
   "metadata": {},
   "outputs": [
    {
     "data": {
      "text/plain": [
       "0.9553903345724907"
      ]
     },
     "execution_count": 437,
     "metadata": {},
     "output_type": "execute_result"
    }
   ],
   "source": [
    "(m_test-count)/m_test"
   ]
  },
  {
   "cell_type": "code",
   "execution_count": 444,
   "id": "bfa61b56",
   "metadata": {},
   "outputs": [],
   "source": [
    "# Compare with sklearn\n",
    "from sklearn.svm import SVC"
   ]
  },
  {
   "cell_type": "code",
   "execution_count": 446,
   "id": "c55c67e9",
   "metadata": {},
   "outputs": [
    {
     "data": {
      "text/plain": [
       "SVC(C=10, kernel='linear')"
      ]
     },
     "execution_count": 446,
     "metadata": {},
     "output_type": "execute_result"
    }
   ],
   "source": [
    "clf = SVC(C = 10, kernel = 'linear')\n",
    "clf.fit(X_train, y_train.ravel()) "
   ]
  },
  {
   "cell_type": "code",
   "execution_count": 447,
   "id": "fd6f148a",
   "metadata": {
    "scrolled": true
   },
   "outputs": [
    {
     "name": "stdout",
     "output_type": "stream",
     "text": [
      "w =  [[-1.12594155e+00  4.76769635e-02 -2.89523520e-01 -6.21557917e-05\n",
      "   9.65460384e-01  2.12823199e-01  1.26726334e+00  1.01186332e+00\n",
      "   4.96098433e-01  1.23220466e-01 -9.67199176e-01 -1.27065905e+00\n",
      "   7.29355793e-01  1.06257769e-01  3.03220035e-01 -2.42455491e-01\n",
      "   5.47276265e-01  3.74789009e-01  9.53261239e-02 -9.42501311e-02\n",
      "  -2.55660698e+00  4.50266270e-01  4.20956201e-01  3.46769280e-02\n",
      "   1.27765434e+00 -1.67402131e-01  3.76449466e+00  2.41547170e+00\n",
      "   1.39789133e+00  1.00864183e-01]]\n",
      "b =  [-6.97261855]\n"
     ]
    }
   ],
   "source": [
    "print('w = ',clf.coef_)\n",
    "print('b = ',clf.intercept_)"
   ]
  },
  {
   "cell_type": "code",
   "execution_count": 462,
   "id": "04675fc5",
   "metadata": {},
   "outputs": [],
   "source": [
    "y_pred_sk = clf.predict(X_test)"
   ]
  },
  {
   "cell_type": "code",
   "execution_count": 459,
   "id": "f28cf62a",
   "metadata": {},
   "outputs": [],
   "source": [
    "count_sk_g = 0\n",
    "count_sk_qp = 0\n",
    "for i in range(m_test):\n",
    "    if y_pred_sk[i] != y_test[i]:\n",
    "        count_sk_g += 1\n",
    "    if y_pred_sk[i] != y_pred[i]:\n",
    "        count_sk_qp += 1"
   ]
  },
  {
   "cell_type": "code",
   "execution_count": 460,
   "id": "e61c864a",
   "metadata": {},
   "outputs": [
    {
     "data": {
      "text/plain": [
       "(15, 7)"
      ]
     },
     "execution_count": 460,
     "metadata": {},
     "output_type": "execute_result"
    }
   ],
   "source": [
    "count_sk_g,count_sk_qp"
   ]
  },
  {
   "cell_type": "code",
   "execution_count": 461,
   "id": "6ff9cb6b",
   "metadata": {},
   "outputs": [
    {
     "data": {
      "text/plain": [
       "0.9442379182156134"
      ]
     },
     "execution_count": 461,
     "metadata": {},
     "output_type": "execute_result"
    }
   ],
   "source": [
    "(m_test-count_sk_g)/m_test"
   ]
  },
  {
   "cell_type": "markdown",
   "id": "2812faef",
   "metadata": {},
   "source": [
    "#### Sequential Minimal Optimization"
   ]
  },
  {
   "cell_type": "code",
   "execution_count": 518,
   "id": "728bf2a8",
   "metadata": {},
   "outputs": [],
   "source": [
    "import random"
   ]
  },
  {
   "cell_type": "code",
   "execution_count": 669,
   "id": "8cd48236",
   "metadata": {},
   "outputs": [],
   "source": [
    "def kernel(x1,x2):\n",
    "    # dot product as kernel function\n",
    "    k12 = np.dot(x1.reshape(1,-1),x2.reshape(-1,1))\n",
    "    return k12"
   ]
  },
  {
   "cell_type": "code",
   "execution_count": 670,
   "id": "9f6effd3",
   "metadata": {},
   "outputs": [],
   "source": [
    "def calculate_E(alpha,y_train,X_train,b,x_i,y_i):\n",
    "    f_xi = 0\n",
    "    for j in range(len(alpha)):\n",
    "        xj = X_train[j,:]\n",
    "        xi = x_i\n",
    "        kji = kernel(xj,xi)\n",
    "        f_xi += alpha[j]*y_train[j]*kji\n",
    "    \n",
    "    f_xi += b \n",
    "    Ei = f_xi - y_i\n",
    "    return Ei"
   ]
  },
  {
   "cell_type": "code",
   "execution_count": 671,
   "id": "82900252",
   "metadata": {},
   "outputs": [],
   "source": [
    "def calculate_LH(C,y_i,y_j,alpha_i,alpha_j):\n",
    "    if y_i != y_j:\n",
    "        L = max(0, alpha_j-alpha_i)\n",
    "        H = min(C, C+alpha_j-alpha_i)\n",
    "    else:\n",
    "        L = max(0, alpha_i+alpha_j-C)\n",
    "        H = min(C, alpha_i+alpha_j)\n",
    "        \n",
    "    return L,H"
   ]
  },
  {
   "cell_type": "code",
   "execution_count": 672,
   "id": "33d8950e",
   "metadata": {},
   "outputs": [],
   "source": [
    "def calculate_eita(x_i,x_j):\n",
    "    eita = 2*kernel(x_i,x_j)-kernel(x_i,x_i)-kernel(x_j,x_j)\n",
    "    return eita"
   ]
  },
  {
   "cell_type": "code",
   "execution_count": 673,
   "id": "45d3795a",
   "metadata": {},
   "outputs": [],
   "source": [
    "def calculate_a2(a2_old,Ei,Ej,eita,y_j,L,H):\n",
    "    a2_new = a2_old - y_j*(Ei-Ej)/eita\n",
    "    \n",
    "    if a2_new > H:\n",
    "        a2_new = H\n",
    "    elif a2_new < L:\n",
    "        a2_new = L\n",
    "    \n",
    "    return a2_new"
   ]
  },
  {
   "cell_type": "code",
   "execution_count": 751,
   "id": "2a37274a",
   "metadata": {},
   "outputs": [],
   "source": [
    "m_train,n_train = X_train.shape"
   ]
  },
  {
   "cell_type": "code",
   "execution_count": 847,
   "id": "d505177b",
   "metadata": {},
   "outputs": [],
   "source": [
    "# Initialization: all alphas and b are zero\n",
    "alpha_old,alpha_new = np.zeros((m_train,1)),np.zeros((m_train,1))\n",
    "b = 0"
   ]
  },
  {
   "cell_type": "code",
   "execution_count": 848,
   "id": "436a309d",
   "metadata": {},
   "outputs": [],
   "source": [
    "C = 10 # regularization param\n",
    "epsilon = 1e-3 # numerical tolerance for KKT conditions\n",
    "max_passes = 1 # maximum numbe of passes to iterate over alpha's without changing"
   ]
  },
  {
   "cell_type": "code",
   "execution_count": 849,
   "id": "02bc678c",
   "metadata": {
    "scrolled": true
   },
   "outputs": [],
   "source": [
    "passes = 0\n",
    "while passes < max_passes:\n",
    "    num_changed_alphas = 0\n",
    "    for i in range(m_train):\n",
    "        a_i = alpha_new[i]\n",
    "        x_i = X_train[i,:]\n",
    "        y_i = y_train[i]\n",
    "        Ei = calculate_E(alpha_new,y_train,X_train,b,x_i,y_i)\n",
    "        if (y_i*Ei < -epsilon and a_i < C) or (y_i*Ei > epsilon and a_i > 0): # KKT condition for unbound\n",
    "            # Choose a random j that is not equal to i\n",
    "            j = random.randint(0,m_train-1)\n",
    "            while j == i:\n",
    "                j = random.randint(0,m_train-1)\n",
    "            a_j = alpha_new[j]\n",
    "            x_j = X_train[j,:]\n",
    "            y_j = y_train[j]\n",
    "            Ej = calculate_E(alpha_new,y_train,X_train,b,x_j,y_j)\n",
    "            \n",
    "            alpha_old[i] = alpha_new[i]\n",
    "            alpha_old[j] = alpha_new[j]\n",
    "            \n",
    "            L,H = calculate_LH(C,y_i,y_j,a_i,a_j)\n",
    "            if L == H:\n",
    "                continue\n",
    "                \n",
    "            eita = calculate_eita(x_i,x_j)\n",
    "            if eita >= 0:\n",
    "                continue\n",
    "  \n",
    "            a_j_old = a_j\n",
    "            a_j_new = calculate_a2(a_j_old,Ei,Ej,eita,y_j,L,H)\n",
    "            \n",
    "            #print(a_j_new,a_j_old)\n",
    "            if abs(a_j_new-a_j_old) < 1e-4:\n",
    "                continue\n",
    "            \n",
    "                \n",
    "            a_i_old = a_i\n",
    "            a_i_new = a_i_old+y_i*y_j*(a_j_old-a_j_new)  ##### Update alpha_old\n",
    "            alpha_new[i] = a_i_new\n",
    "            \n",
    "            b1 = b-Ei-y_i*(a_i_new-a_i_old)*kernel(x_i,x_i)-y_j*(a_j_new-a_j_old)*kernel(x_i,x_j) # +-? \n",
    "            b2 = b-Ej-y_i*(a_i_new-a_i_old)*kernel(x_i,x_j)-y_j*(a_j_new-a_j_old)*kernel(x_j,x_j)\n",
    "            if (a_i_new > 0 and a_i_new < C):\n",
    "                b = b1\n",
    "            elif (a_j_new > 0 and a_j_new < C):\n",
    "                b = b2\n",
    "            else:\n",
    "                b = (b1+b2)/2\n",
    "            \n",
    "            alpha_new[j] = a_j_new\n",
    "            alpha_new[i] = a_i_new\n",
    "            num_changed_alphas += 1\n",
    "            \n",
    "    if num_changed_alphas == 0:\n",
    "        passes += 1\n",
    "    else:\n",
    "        passes = 0\n",
    "            "
   ]
  },
  {
   "cell_type": "code",
   "execution_count": 850,
   "id": "7c925558",
   "metadata": {},
   "outputs": [
    {
     "data": {
      "text/plain": [
       "(1, 300)"
      ]
     },
     "execution_count": 850,
     "metadata": {},
     "output_type": "execute_result"
    }
   ],
   "source": [
    "alpha_new = alpha_new.reshape(1,-1)\n",
    "alpha_new.shape"
   ]
  },
  {
   "cell_type": "code",
   "execution_count": 851,
   "id": "4c2ec430",
   "metadata": {},
   "outputs": [
    {
     "data": {
      "text/plain": [
       "array([0.00034926, 0.0001103 , 0.00011202, 0.00049683, 0.00140324,\n",
       "       0.00089966, 0.00032611, 0.00010077, 0.00032611, 0.00037444,\n",
       "       0.00803534, 0.00852752, 0.0001961 , 0.00043028, 0.00023526,\n",
       "       0.0001961 , 0.0001361 , 0.00010769, 0.0001103 , 0.00034926,\n",
       "       0.00010077, 0.00012757, 0.00108241, 0.0014102 ])"
      ]
     },
     "execution_count": 851,
     "metadata": {},
     "output_type": "execute_result"
    }
   ],
   "source": [
    "alpha_new[alpha_new>1e-4]"
   ]
  },
  {
   "cell_type": "code",
   "execution_count": 852,
   "id": "b8f0c501",
   "metadata": {},
   "outputs": [
    {
     "data": {
      "text/plain": [
       "(300, 300)"
      ]
     },
     "execution_count": 852,
     "metadata": {},
     "output_type": "execute_result"
    }
   ],
   "source": [
    "y_id = np.eye(m_train)\n",
    "for i in range(m_train):\n",
    "    y_id[i,i] = y_train[i]\n",
    "y_id.shape"
   ]
  },
  {
   "cell_type": "code",
   "execution_count": 853,
   "id": "c579b246",
   "metadata": {},
   "outputs": [
    {
     "data": {
      "text/plain": [
       "(30, 1)"
      ]
     },
     "execution_count": 853,
     "metadata": {},
     "output_type": "execute_result"
    }
   ],
   "source": [
    "alpha_times_y = np.dot(alpha_new,y_id)\n",
    "weights = np.dot(alpha_times_y,X_train)\n",
    "weights = weights.reshape(-1,1)\n",
    "weights.shape"
   ]
  },
  {
   "cell_type": "code",
   "execution_count": 854,
   "id": "f410959c",
   "metadata": {},
   "outputs": [
    {
     "data": {
      "text/plain": [
       "array([[-132.53625226]])"
      ]
     },
     "execution_count": 854,
     "metadata": {},
     "output_type": "execute_result"
    }
   ],
   "source": [
    "tmp=b\n",
    "tmp"
   ]
  },
  {
   "cell_type": "code",
   "execution_count": 855,
   "id": "02ebf4b7",
   "metadata": {},
   "outputs": [],
   "source": [
    "b = y_train[S] - np.dot(X_train[S],weights)\n",
    "b_ave = b.mean()"
   ]
  },
  {
   "cell_type": "code",
   "execution_count": 856,
   "id": "12235008",
   "metadata": {},
   "outputs": [
    {
     "data": {
      "text/plain": [
       "-8.674400951697805"
      ]
     },
     "execution_count": 856,
     "metadata": {},
     "output_type": "execute_result"
    }
   ],
   "source": [
    "b_ave"
   ]
  },
  {
   "cell_type": "code",
   "execution_count": 857,
   "id": "78e0541c",
   "metadata": {},
   "outputs": [],
   "source": [
    "m_test,n_test = X_test.shape"
   ]
  },
  {
   "cell_type": "code",
   "execution_count": 858,
   "id": "4c115a61",
   "metadata": {},
   "outputs": [],
   "source": [
    "y_pred = np.zeros(m_test)\n",
    "for i in range(m_test):\n",
    "    sign = np.dot(weights.T,X_test[i,:].reshape(-1,1))+b_ave\n",
    "    if sign > 0:\n",
    "        y_pred[i] = 1\n",
    "    else:\n",
    "        y_pred[i] = -1"
   ]
  },
  {
   "cell_type": "code",
   "execution_count": 859,
   "id": "6c9e939e",
   "metadata": {},
   "outputs": [
    {
     "data": {
      "text/plain": [
       "13"
      ]
     },
     "execution_count": 859,
     "metadata": {},
     "output_type": "execute_result"
    }
   ],
   "source": [
    "count = 0\n",
    "for i in range(m_test):\n",
    "    if y_pred[i] != y_test[i]:\n",
    "        count += 1\n",
    "count"
   ]
  },
  {
   "cell_type": "code",
   "execution_count": 860,
   "id": "ccd35b0b",
   "metadata": {},
   "outputs": [
    {
     "data": {
      "text/plain": [
       "0.9516728624535316"
      ]
     },
     "execution_count": 860,
     "metadata": {},
     "output_type": "execute_result"
    }
   ],
   "source": [
    "(m_test-count)/m_test"
   ]
  },
  {
   "cell_type": "code",
   "execution_count": 846,
   "id": "7cd11818",
   "metadata": {},
   "outputs": [
    {
     "data": {
      "text/plain": [
       "0.8773234200743495"
      ]
     },
     "execution_count": 846,
     "metadata": {},
     "output_type": "execute_result"
    }
   ],
   "source": [
    "(m_test-count)/m_test"
   ]
  },
  {
   "cell_type": "code",
   "execution_count": null,
   "id": "32018ea5",
   "metadata": {},
   "outputs": [],
   "source": []
  }
 ],
 "metadata": {
  "kernelspec": {
   "display_name": "Python 3 (ipykernel)",
   "language": "python",
   "name": "python3"
  },
  "language_info": {
   "codemirror_mode": {
    "name": "ipython",
    "version": 3
   },
   "file_extension": ".py",
   "mimetype": "text/x-python",
   "name": "python",
   "nbconvert_exporter": "python",
   "pygments_lexer": "ipython3",
   "version": "3.8.5"
  }
 },
 "nbformat": 4,
 "nbformat_minor": 5
}
